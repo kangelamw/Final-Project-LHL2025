{
 "cells": [
  {
   "cell_type": "markdown",
   "metadata": {},
   "source": [
    "# Data Cleaning & EDA"
   ]
  },
  {
   "cell_type": "code",
   "execution_count": 1,
   "metadata": {},
   "outputs": [
    {
     "name": "stdout",
     "output_type": "stream",
     "text": [
      "Data: Save point initialized.\n",
      "Images: Save point initialized.\n"
     ]
    }
   ],
   "source": [
    "# Imports\n",
    "import os\n",
    "import pandas as pd\n",
    "import numpy as np\n",
    "import matplotlib as plt\n",
    "import seaborn as sns\n",
    "from functions import *\n",
    "\n",
    "# Paths\n",
    "save_data = '../data'\n",
    "save_images = '../images'\n",
    "\n",
    "if os.path.exists(save_data):\n",
    "  print('Data: Save point initialized.')\n",
    "if os.path.exists(save_images):\n",
    "  print('Images: Save point initialized.')"
   ]
  },
  {
   "cell_type": "code",
   "execution_count": null,
   "metadata": {},
   "outputs": [],
   "source": [
    "\"\"\"\n",
    "from datasets import load_dataset\n",
    "\n",
    "ds = load_dataset(\"valurank/PoliticalBias_AllSides_Txt\")\n",
    "\n",
    "ds\n",
    "\"\"\""
   ]
  },
  {
   "cell_type": "code",
   "execution_count": 3,
   "metadata": {},
   "outputs": [
    {
     "name": "stdout",
     "output_type": "stream",
     "text": [
      "Datasets: Save point initialized.\n",
      "\n",
      "['Center Data', 'Left Data', 'Right Data']\n"
     ]
    }
   ],
   "source": [
    "# Downloaded the labeled dataset manually.\n",
    "datasets_path = save_data + '/AllSides'\n",
    "\n",
    "if os.path.exists(datasets_path):\n",
    "  print('Datasets: Save point initialized.\\n')\n",
    "  print(os.listdir(datasets_path))"
   ]
  },
  {
   "cell_type": "code",
   "execution_count": 4,
   "metadata": {},
   "outputs": [
    {
     "name": "stdout",
     "output_type": "stream",
     "text": [
      "Left Data: Save point initialized: 7803 files\n",
      "Center Data: Save point initialized: 3996 files\n",
      "Right Data: Save point initialized: 5563 files\n"
     ]
    }
   ],
   "source": [
    "ds_center_path = datasets_path + '/Center Data'\n",
    "ds_left_path = datasets_path + '/Left Data'\n",
    "ds_right_path = datasets_path + '/Right Data'\n",
    "\n",
    "if os.path.exists(ds_left_path):\n",
    "  print(f'Left Data: Save point initialized: {len(os.listdir(ds_left_path))} files')\n",
    "if os.path.exists(ds_center_path):\n",
    "  print(f'Center Data: Save point initialized: {len(os.listdir(ds_center_path))} files')\n",
    "if os.path.exists(ds_right_path):\n",
    "  print(f'Right Data: Save point initialized: {len(os.listdir(ds_right_path))} files')"
   ]
  },
  {
   "cell_type": "code",
   "execution_count": 5,
   "metadata": {},
   "outputs": [
    {
     "data": {
      "text/plain": [
       "((7803, 2), (3996, 2), (5563, 2))"
      ]
     },
     "execution_count": 5,
     "metadata": {},
     "output_type": "execute_result"
    }
   ],
   "source": [
    "# Convert to DataFrame\n",
    "df_l = pd.DataFrame() # Left, 0\n",
    "df_c = pd.DataFrame() # Center, 1\n",
    "df_r = pd.DataFrame() # Right, 2\n",
    "\n",
    "# Loops\n",
    "for file in os.listdir(ds_left_path): # Left\n",
    "    path = os.path.join(ds_left_path, file)\n",
    "    with open(path, 'r') as f:\n",
    "        content = f.read()\n",
    "        df_l = pd.concat([df_l, pd.DataFrame({'text': [content], 'label': ['0']})], ignore_index=True)\n",
    "    \n",
    "for file in os.listdir(ds_center_path): # Center\n",
    "    path = os.path.join(ds_center_path, file)\n",
    "    with open(path, 'r') as f:\n",
    "        content = f.read()\n",
    "        df_c = pd.concat([df_c, pd.DataFrame({'text': [content], 'label': ['1']})], ignore_index=True)\n",
    "\n",
    "for file in os.listdir(ds_right_path): # Right\n",
    "    path = os.path.join(ds_right_path, file)\n",
    "    with open(path, 'r') as f:\n",
    "        content = f.read()\n",
    "        df_r = pd.concat([df_r, pd.DataFrame({'text': [content], 'label': ['2']})], ignore_index=True)\n",
    "\n",
    "# Prints\n",
    "df_l.shape, df_c.shape, df_r.shape"
   ]
  },
  {
   "cell_type": "code",
   "execution_count": 6,
   "metadata": {},
   "outputs": [
    {
     "name": "stdout",
     "output_type": "stream",
     "text": [
      "<class 'pandas.core.frame.DataFrame'>\n",
      "Index: 17362 entries, 0 to 5562\n",
      "Data columns (total 2 columns):\n",
      " #   Column  Non-Null Count  Dtype \n",
      "---  ------  --------------  ----- \n",
      " 0   text    17362 non-null  object\n",
      " 1   label   17362 non-null  object\n",
      "dtypes: object(2)\n",
      "memory usage: 406.9+ KB\n"
     ]
    },
    {
     "data": {
      "text/plain": [
       "(None,\n",
       " label\n",
       " 0    7803\n",
       " 2    5563\n",
       " 1    3996\n",
       " Name: count, dtype: int64,\n",
       " (17362, 2))"
      ]
     },
     "execution_count": 6,
     "metadata": {},
     "output_type": "execute_result"
    }
   ],
   "source": [
    "# Merge\n",
    "df = pd.concat([df_c, df_l, df_r], axis=0)\n",
    "df.info(), df['label'].value_counts(), df.shape"
   ]
  },
  {
   "cell_type": "code",
   "execution_count": null,
   "metadata": {},
   "outputs": [
    {
     "data": {
      "application/vnd.microsoft.datawrangler.viewer.v0+json": {
       "columns": [
        {
         "name": "index",
         "rawType": "object",
         "type": "string"
        },
        {
         "name": "word_count",
         "rawType": "float64",
         "type": "float"
        }
       ],
       "conversionMethod": "pd.DataFrame",
       "ref": "83c13c50-a12f-4b4c-b18f-fecfbdf787c5",
       "rows": [
        [
         "count",
         "17362.0"
        ],
        [
         "mean",
         "964.3370579426334"
        ],
        [
         "std",
         "3212.467367627756"
        ],
        [
         "min",
         "49.0"
        ],
        [
         "25%",
         "487.0"
        ],
        [
         "50%",
         "771.0"
        ],
        [
         "75%",
         "1122.0"
        ],
        [
         "max",
         "204273.0"
        ]
       ],
       "shape": {
        "columns": 1,
        "rows": 8
       }
      },
      "text/html": [
       "<div>\n",
       "<style scoped>\n",
       "    .dataframe tbody tr th:only-of-type {\n",
       "        vertical-align: middle;\n",
       "    }\n",
       "\n",
       "    .dataframe tbody tr th {\n",
       "        vertical-align: top;\n",
       "    }\n",
       "\n",
       "    .dataframe thead th {\n",
       "        text-align: right;\n",
       "    }\n",
       "</style>\n",
       "<table border=\"1\" class=\"dataframe\">\n",
       "  <thead>\n",
       "    <tr style=\"text-align: right;\">\n",
       "      <th></th>\n",
       "      <th>word_count</th>\n",
       "    </tr>\n",
       "  </thead>\n",
       "  <tbody>\n",
       "    <tr>\n",
       "      <th>count</th>\n",
       "      <td>17362.000000</td>\n",
       "    </tr>\n",
       "    <tr>\n",
       "      <th>mean</th>\n",
       "      <td>964.337058</td>\n",
       "    </tr>\n",
       "    <tr>\n",
       "      <th>std</th>\n",
       "      <td>3212.467368</td>\n",
       "    </tr>\n",
       "    <tr>\n",
       "      <th>min</th>\n",
       "      <td>49.000000</td>\n",
       "    </tr>\n",
       "    <tr>\n",
       "      <th>25%</th>\n",
       "      <td>487.000000</td>\n",
       "    </tr>\n",
       "    <tr>\n",
       "      <th>50%</th>\n",
       "      <td>771.000000</td>\n",
       "    </tr>\n",
       "    <tr>\n",
       "      <th>75%</th>\n",
       "      <td>1122.000000</td>\n",
       "    </tr>\n",
       "    <tr>\n",
       "      <th>max</th>\n",
       "      <td>204273.000000</td>\n",
       "    </tr>\n",
       "  </tbody>\n",
       "</table>\n",
       "</div>"
      ],
      "text/plain": [
       "          word_count\n",
       "count   17362.000000\n",
       "mean      964.337058\n",
       "std      3212.467368\n",
       "min        49.000000\n",
       "25%       487.000000\n",
       "50%       771.000000\n",
       "75%      1122.000000\n",
       "max    204273.000000"
      ]
     },
     "execution_count": 7,
     "metadata": {},
     "output_type": "execute_result"
    }
   ],
   "source": [
    "# Clean text\n",
    "df['text'] = df['text'].str.strip()\n",
    "df['text'] = df['text'].str.replace('\\n', ' ')\n",
    "\n",
    "df.head()"
   ]
  },
  {
   "cell_type": "code",
   "execution_count": 12,
   "metadata": {},
   "outputs": [
    {
     "data": {
      "text/plain": [
       "(label\n",
       " 0    3996\n",
       " 1    3996\n",
       " 2    3996\n",
       " Name: count, dtype: int64,\n",
       " label\n",
       " 0    0.333333\n",
       " 1    0.333333\n",
       " 2    0.333333\n",
       " Name: proportion, dtype: float64)"
      ]
     },
     "execution_count": 12,
     "metadata": {},
     "output_type": "execute_result"
    }
   ],
   "source": [
    "# Sampling for max 3996\n",
    "df = df.groupby('label').sample(n=3996,\n",
    "                                random_state=42).reset_index(drop=True)\n",
    "\n",
    "df['label'].value_counts(), df['label'].value_counts(normalize=True)"
   ]
  },
  {
   "cell_type": "markdown",
   "metadata": {},
   "source": [
    "Split"
   ]
  },
  {
   "cell_type": "code",
   "execution_count": 13,
   "metadata": {},
   "outputs": [
    {
     "data": {
      "text/plain": [
       "((9590, 4), (2398, 4))"
      ]
     },
     "execution_count": 13,
     "metadata": {},
     "output_type": "execute_result"
    }
   ],
   "source": [
    "# Stratifed Split\n",
    "from sklearn.model_selection import train_test_split\n",
    "\n",
    "# Split df by label\n",
    "df_train, df_test = train_test_split(df,\n",
    "                                     test_size=0.2,\n",
    "                                     stratify=df['label'],\n",
    "                                     random_state=42)\n",
    "\n",
    "df_train.shape, df_test.shape"
   ]
  },
  {
   "cell_type": "code",
   "execution_count": 14,
   "metadata": {},
   "outputs": [
    {
     "data": {
      "text/plain": [
       "(label\n",
       " 0    0.333368\n",
       " 1    0.333368\n",
       " 2    0.333264\n",
       " Name: proportion, dtype: float64,\n",
       " label\n",
       " 2    0.333611\n",
       " 0    0.333194\n",
       " 1    0.333194\n",
       " Name: proportion, dtype: float64)"
      ]
     },
     "execution_count": 14,
     "metadata": {},
     "output_type": "execute_result"
    }
   ],
   "source": [
    "df_train['label'].value_counts(normalize=True), df_test['label'].value_counts(normalize=True)"
   ]
  },
  {
   "cell_type": "markdown",
   "metadata": {},
   "source": [
    "Save"
   ]
  },
  {
   "cell_type": "code",
   "execution_count": 15,
   "metadata": {},
   "outputs": [
    {
     "name": "stdout",
     "output_type": "stream",
     "text": [
      "Train saved.\n",
      "Test saved.\n"
     ]
    }
   ],
   "source": [
    "# Save\n",
    "train_path = os.path.join(save_data, 'train.csv')\n",
    "test_path = os.path.join(save_data, 'test.csv')\n",
    "\n",
    "df_train.to_csv(train_path, index=False)\n",
    "df_test.to_csv(test_path, index=False)\n",
    "\n",
    "if os.path.exists(train_path):\n",
    "  print('Train saved.')\n",
    "if os.path.exists(test_path):\n",
    "  print('Test saved.')"
   ]
  }
 ],
 "metadata": {
  "kernelspec": {
   "display_name": "llmproject",
   "language": "python",
   "name": "python3"
  },
  "language_info": {
   "codemirror_mode": {
    "name": "ipython",
    "version": 3
   },
   "file_extension": ".py",
   "mimetype": "text/x-python",
   "name": "python",
   "nbconvert_exporter": "python",
   "pygments_lexer": "ipython3",
   "version": "3.10.8"
  }
 },
 "nbformat": 4,
 "nbformat_minor": 2
}
