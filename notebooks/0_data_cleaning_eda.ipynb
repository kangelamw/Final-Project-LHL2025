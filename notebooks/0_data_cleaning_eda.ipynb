{
 "cells": [
  {
   "cell_type": "markdown",
   "metadata": {},
   "source": [
    "# Data Cleaning & EDA"
   ]
  },
  {
   "cell_type": "code",
   "execution_count": 32,
   "metadata": {},
   "outputs": [
    {
     "name": "stdout",
     "output_type": "stream",
     "text": [
      "Data: Save point initialized.\n",
      "Images: Save point initialized.\n"
     ]
    }
   ],
   "source": [
    "# Imports\n",
    "import os\n",
    "import pandas as pd\n",
    "import numpy as np\n",
    "import matplotlib as plt\n",
    "import seaborn as sns\n",
    "from functions import *\n",
    "\n",
    "# Paths\n",
    "save_data = '../data'\n",
    "save_images = '../images'\n",
    "\n",
    "if os.path.exists(save_data):\n",
    "  print('Data: Save point initialized.')\n",
    "if os.path.exists(save_images):\n",
    "  print('Images: Save point initialized.')"
   ]
  },
  {
   "cell_type": "code",
   "execution_count": null,
   "metadata": {},
   "outputs": [],
   "source": [
    "\"\"\"\n",
    "from datasets import load_dataset\n",
    "\n",
    "ds = load_dataset(\"valurank/PoliticalBias_AllSides_Txt\")\n",
    "\n",
    "ds\n",
    "\"\"\""
   ]
  },
  {
   "cell_type": "code",
   "execution_count": 34,
   "metadata": {},
   "outputs": [
    {
     "name": "stdout",
     "output_type": "stream",
     "text": [
      "Datasets: Save point initialized.\n",
      "\n",
      "['Center Data', 'Left Data', 'Right Data']\n"
     ]
    }
   ],
   "source": [
    "# Downloaded the labeled dataset manually.\n",
    "datasets_path = save_data + '/AllSides'\n",
    "\n",
    "if os.path.exists(datasets_path):\n",
    "  print('Datasets: Save point initialized.\\n')\n",
    "  print(os.listdir(datasets_path))"
   ]
  },
  {
   "cell_type": "code",
   "execution_count": 35,
   "metadata": {},
   "outputs": [
    {
     "name": "stdout",
     "output_type": "stream",
     "text": [
      "Left Data: Save point initialized: 7803 files\n",
      "Center Data: Save point initialized: 3996 files\n",
      "Right Data: Save point initialized: 5563 files\n"
     ]
    }
   ],
   "source": [
    "ds_center_path = datasets_path + '/Center Data'\n",
    "ds_left_path = datasets_path + '/Left Data'\n",
    "ds_right_path = datasets_path + '/Right Data'\n",
    "\n",
    "if os.path.exists(ds_left_path):\n",
    "  print(f'Left Data: Save point initialized: {len(os.listdir(ds_left_path))} files')\n",
    "if os.path.exists(ds_center_path):\n",
    "  print(f'Center Data: Save point initialized: {len(os.listdir(ds_center_path))} files')\n",
    "if os.path.exists(ds_right_path):\n",
    "  print(f'Right Data: Save point initialized: {len(os.listdir(ds_right_path))} files')"
   ]
  },
  {
   "cell_type": "code",
   "execution_count": 36,
   "metadata": {},
   "outputs": [
    {
     "data": {
      "text/plain": [
       "((7803, 2), (3996, 2), (5563, 2))"
      ]
     },
     "execution_count": 36,
     "metadata": {},
     "output_type": "execute_result"
    }
   ],
   "source": [
    "# Convert to DataFrame\n",
    "df_l = pd.DataFrame() # Left, 0\n",
    "df_c = pd.DataFrame() # Center, 1\n",
    "df_r = pd.DataFrame() # Right, 2\n",
    "\n",
    "# Loops\n",
    "for file in os.listdir(ds_left_path): # Left\n",
    "    path = os.path.join(ds_left_path, file)\n",
    "    with open(path, 'r') as f:\n",
    "        content = f.read()\n",
    "        df_l = pd.concat([df_l, pd.DataFrame({'text': [content], 'label': ['0']})], ignore_index=True)\n",
    "    \n",
    "for file in os.listdir(ds_center_path): # Center\n",
    "    path = os.path.join(ds_center_path, file)\n",
    "    with open(path, 'r') as f:\n",
    "        content = f.read()\n",
    "        df_c = pd.concat([df_c, pd.DataFrame({'text': [content], 'label': ['1']})], ignore_index=True)\n",
    "\n",
    "for file in os.listdir(ds_right_path): # Right\n",
    "    path = os.path.join(ds_right_path, file)\n",
    "    with open(path, 'r') as f:\n",
    "        content = f.read()\n",
    "        df_r = pd.concat([df_r, pd.DataFrame({'text': [content], 'label': ['2']})], ignore_index=True)\n",
    "\n",
    "# Prints\n",
    "df_l.shape, df_c.shape, df_r.shape"
   ]
  },
  {
   "cell_type": "code",
   "execution_count": 37,
   "metadata": {},
   "outputs": [
    {
     "name": "stdout",
     "output_type": "stream",
     "text": [
      "<class 'pandas.core.frame.DataFrame'>\n",
      "Index: 17362 entries, 0 to 5562\n",
      "Data columns (total 2 columns):\n",
      " #   Column  Non-Null Count  Dtype \n",
      "---  ------  --------------  ----- \n",
      " 0   text    17362 non-null  object\n",
      " 1   label   17362 non-null  object\n",
      "dtypes: object(2)\n",
      "memory usage: 406.9+ KB\n"
     ]
    },
    {
     "data": {
      "text/plain": [
       "(None,\n",
       " label\n",
       " 0    7803\n",
       " 2    5563\n",
       " 1    3996\n",
       " Name: count, dtype: int64,\n",
       " (17362, 2))"
      ]
     },
     "execution_count": 37,
     "metadata": {},
     "output_type": "execute_result"
    }
   ],
   "source": [
    "# Merge\n",
    "df = pd.concat([df_c, df_l, df_r], axis=0)\n",
    "df.info(), df['label'].value_counts(), df.shape"
   ]
  },
  {
   "cell_type": "code",
   "execution_count": 38,
   "metadata": {},
   "outputs": [
    {
     "data": {
      "application/vnd.microsoft.datawrangler.viewer.v0+json": {
       "columns": [
        {
         "name": "index",
         "rawType": "object",
         "type": "string"
        },
        {
         "name": "word_count",
         "rawType": "float64",
         "type": "float"
        }
       ],
       "conversionMethod": "pd.DataFrame",
       "ref": "f71dbe22-b3b2-4c82-8449-dd295cd2705c",
       "rows": [
        [
         "count",
         "17362.0"
        ],
        [
         "mean",
         "964.3370579426334"
        ],
        [
         "std",
         "3212.467367627756"
        ],
        [
         "min",
         "49.0"
        ],
        [
         "25%",
         "487.0"
        ],
        [
         "50%",
         "771.0"
        ],
        [
         "75%",
         "1122.0"
        ],
        [
         "max",
         "204273.0"
        ]
       ],
       "shape": {
        "columns": 1,
        "rows": 8
       }
      },
      "text/html": [
       "<div>\n",
       "<style scoped>\n",
       "    .dataframe tbody tr th:only-of-type {\n",
       "        vertical-align: middle;\n",
       "    }\n",
       "\n",
       "    .dataframe tbody tr th {\n",
       "        vertical-align: top;\n",
       "    }\n",
       "\n",
       "    .dataframe thead th {\n",
       "        text-align: right;\n",
       "    }\n",
       "</style>\n",
       "<table border=\"1\" class=\"dataframe\">\n",
       "  <thead>\n",
       "    <tr style=\"text-align: right;\">\n",
       "      <th></th>\n",
       "      <th>word_count</th>\n",
       "    </tr>\n",
       "  </thead>\n",
       "  <tbody>\n",
       "    <tr>\n",
       "      <th>count</th>\n",
       "      <td>17362.000000</td>\n",
       "    </tr>\n",
       "    <tr>\n",
       "      <th>mean</th>\n",
       "      <td>964.337058</td>\n",
       "    </tr>\n",
       "    <tr>\n",
       "      <th>std</th>\n",
       "      <td>3212.467368</td>\n",
       "    </tr>\n",
       "    <tr>\n",
       "      <th>min</th>\n",
       "      <td>49.000000</td>\n",
       "    </tr>\n",
       "    <tr>\n",
       "      <th>25%</th>\n",
       "      <td>487.000000</td>\n",
       "    </tr>\n",
       "    <tr>\n",
       "      <th>50%</th>\n",
       "      <td>771.000000</td>\n",
       "    </tr>\n",
       "    <tr>\n",
       "      <th>75%</th>\n",
       "      <td>1122.000000</td>\n",
       "    </tr>\n",
       "    <tr>\n",
       "      <th>max</th>\n",
       "      <td>204273.000000</td>\n",
       "    </tr>\n",
       "  </tbody>\n",
       "</table>\n",
       "</div>"
      ],
      "text/plain": [
       "          word_count\n",
       "count   17362.000000\n",
       "mean      964.337058\n",
       "std      3212.467368\n",
       "min        49.000000\n",
       "25%       487.000000\n",
       "50%       771.000000\n",
       "75%      1122.000000\n",
       "max    204273.000000"
      ]
     },
     "execution_count": 38,
     "metadata": {},
     "output_type": "execute_result"
    }
   ],
   "source": [
    "# Clean text\n",
    "df['text'] = df['text'].str.strip()\n",
    "df['text'] = df['text'].str.replace('\\n', ' ')\n",
    "\n",
    "# Split text into words for counting\n",
    "df['words'] = df['text'].str.split()\n",
    "df['word_count'] = df['words'].apply(len)\n",
    "\n",
    "df.describe()"
   ]
  },
  {
   "cell_type": "code",
   "execution_count": 39,
   "metadata": {},
   "outputs": [
    {
     "data": {
      "application/vnd.microsoft.datawrangler.viewer.v0+json": {
       "columns": [
        {
         "name": "index",
         "rawType": "int64",
         "type": "integer"
        },
        {
         "name": "text",
         "rawType": "object",
         "type": "string"
        },
        {
         "name": "label",
         "rawType": "object",
         "type": "string"
        },
        {
         "name": "words",
         "rawType": "object",
         "type": "unknown"
        },
        {
         "name": "word_count",
         "rawType": "int64",
         "type": "integer"
        }
       ],
       "conversionMethod": "pd.DataFrame",
       "ref": "57aa8a4e-52fd-4983-a1fe-cecc3aaf6978",
       "rows": [
        [
         "0",
         "Pfizer says its COVID-19 vaccine is shown to be extremely effective in young teenagers.                                      Esteban Felix/AP                            hide caption              toggle caption              Esteban Felix/AP                                           Pfizer says its COVID-19 vaccine is shown to be extremely effective in young teenagers.                  Esteban Felix/AP                  New clinical trials showed that Pfizer's COVID-19 vaccine elicits \"100% efficacy and robust antibody responses\" in adolescents from 12 to 15 years old, the drug company announced Wednesday. The trial included 2,260 participants; the results are even better than earlier responses from participants ages 16 to 25.  Pfizer and its vaccine partner BioNTech said they will submit the results \"as soon as possible\" to the U.S. Food and Drug Administration and the European Medicines Agency, asking regulators to expand their authorizations for the vaccine's use in young people.  Pfizer will submit the data \"in the coming weeks,\" Pfizer CEO and Chairman Albert Bourla said in a news release about the trial. Calling the results encouraging, he added that the company is acting \"with the hope of starting to vaccinate this age group before the start of the next school year.\"      During the clinical trial, 18 people who were in the placebo group developed COVID-19, while none of the people in the vaccinated group did. Blood tests showed a strong immune system response one month after participants received the second vaccine dose, according to a summary of test data released by Pfizer.  As for potential side effects, Pfizer said the vaccine was tolerated well in the late-stage trial.  Currently, the Pfizer-BioNTech vaccine is authorized for use only in people who are at least 16. The companies, which developed the vaccine together, are working to test it in children as young as 6 months. In the first part of that study, a group of kids from 5 to 11 years old got their first shots last week. A second group, ages 2 to 5, are slated to receive their first doses next week.    Moderna, whose COVID-19 vaccine is authorized for people 18 and older in the U.S., is also testing its vaccine in adolescents; it announced a trial of around 3,000 participants from 12 to 18 years old in December. Moderna also said earlier this month it had administered the first doses of its vaccine to young children in a separate study that involves kids from 6 months to less than 12 years old.  Johnson & Johnson, whose vaccine got U.S. authorization one month ago, has also been moving to include children in clinical trials. The company will test the vaccine in only a small number of adolescents initially, with plans to expand the study if it is shown to be safe, according to a spokesperson at Janssen, the Johnson & Johnson subsidiary that developed the vaccine.",
         "1",
         "['Pfizer', 'says', 'its', 'COVID-19', 'vaccine', 'is', 'shown', 'to', 'be', 'extremely', 'effective', 'in', 'young', 'teenagers.', 'Esteban', 'Felix/AP', 'hide', 'caption', 'toggle', 'caption', 'Esteban', 'Felix/AP', 'Pfizer', 'says', 'its', 'COVID-19', 'vaccine', 'is', 'shown', 'to', 'be', 'extremely', 'effective', 'in', 'young', 'teenagers.', 'Esteban', 'Felix/AP', 'New', 'clinical', 'trials', 'showed', 'that', \"Pfizer's\", 'COVID-19', 'vaccine', 'elicits', '\"100%', 'efficacy', 'and', 'robust', 'antibody', 'responses\"', 'in', 'adolescents', 'from', '12', 'to', '15', 'years', 'old,', 'the', 'drug', 'company', 'announced', 'Wednesday.', 'The', 'trial', 'included', '2,260', 'participants;', 'the', 'results', 'are', 'even', 'better', 'than', 'earlier', 'responses', 'from', 'participants', 'ages', '16', 'to', '25.', 'Pfizer', 'and', 'its', 'vaccine', 'partner', 'BioNTech', 'said', 'they', 'will', 'submit', 'the', 'results', '\"as', 'soon', 'as', 'possible\"', 'to', 'the', 'U.S.', 'Food', 'and', 'Drug', 'Administration', 'and', 'the', 'European', 'Medicines', 'Agency,', 'asking', 'regulators', 'to', 'expand', 'their', 'authorizations', 'for', 'the', \"vaccine's\", 'use', 'in', 'young', 'people.', 'Pfizer', 'will', 'submit', 'the', 'data', '\"in', 'the', 'coming', 'weeks,\"', 'Pfizer', 'CEO', 'and', 'Chairman', 'Albert', 'Bourla', 'said', 'in', 'a', 'news', 'release', 'about', 'the', 'trial.', 'Calling', 'the', 'results', 'encouraging,', 'he', 'added', 'that', 'the', 'company', 'is', 'acting', '\"with', 'the', 'hope', 'of', 'starting', 'to', 'vaccinate', 'this', 'age', 'group', 'before', 'the', 'start', 'of', 'the', 'next', 'school', 'year.\"', 'During', 'the', 'clinical', 'trial,', '18', 'people', 'who', 'were', 'in', 'the', 'placebo', 'group', 'developed', 'COVID-19,', 'while', 'none', 'of', 'the', 'people', 'in', 'the', 'vaccinated', 'group', 'did.', 'Blood', 'tests', 'showed', 'a', 'strong', 'immune', 'system', 'response', 'one', 'month', 'after', 'participants', 'received', 'the', 'second', 'vaccine', 'dose,', 'according', 'to', 'a', 'summary', 'of', 'test', 'data', 'released', 'by', 'Pfizer.', 'As', 'for', 'potential', 'side', 'effects,', 'Pfizer', 'said', 'the', 'vaccine', 'was', 'tolerated', 'well', 'in', 'the', 'late-stage', 'trial.', 'Currently,', 'the', 'Pfizer-BioNTech', 'vaccine', 'is', 'authorized', 'for', 'use', 'only', 'in', 'people', 'who', 'are', 'at', 'least', '16.', 'The', 'companies,', 'which', 'developed', 'the', 'vaccine', 'together,', 'are', 'working', 'to', 'test', 'it', 'in', 'children', 'as', 'young', 'as', '6', 'months.', 'In', 'the', 'first', 'part', 'of', 'that', 'study,', 'a', 'group', 'of', 'kids', 'from', '5', 'to', '11', 'years', 'old', 'got', 'their', 'first', 'shots', 'last', 'week.', 'A', 'second', 'group,', 'ages', '2', 'to', '5,', 'are', 'slated', 'to', 'receive', 'their', 'first', 'doses', 'next', 'week.', 'Moderna,', 'whose', 'COVID-19', 'vaccine', 'is', 'authorized', 'for', 'people', '18', 'and', 'older', 'in', 'the', 'U.S.,', 'is', 'also', 'testing', 'its', 'vaccine', 'in', 'adolescents;', 'it', 'announced', 'a', 'trial', 'of', 'around', '3,000', 'participants', 'from', '12', 'to', '18', 'years', 'old', 'in', 'December.', 'Moderna', 'also', 'said', 'earlier', 'this', 'month', 'it', 'had', 'administered', 'the', 'first', 'doses', 'of', 'its', 'vaccine', 'to', 'young', 'children', 'in', 'a', 'separate', 'study', 'that', 'involves', 'kids', 'from', '6', 'months', 'to', 'less', 'than', '12', 'years', 'old.', 'Johnson', '&', 'Johnson,', 'whose', 'vaccine', 'got', 'U.S.', 'authorization', 'one', 'month', 'ago,', 'has', 'also', 'been', 'moving', 'to', 'include', 'children', 'in', 'clinical', 'trials.', 'The', 'company', 'will', 'test', 'the', 'vaccine', 'in', 'only', 'a', 'small', 'number', 'of', 'adolescents', 'initially,', 'with', 'plans', 'to', 'expand', 'the', 'study', 'if', 'it', 'is', 'shown', 'to', 'be', 'safe,', 'according', 'to', 'a', 'spokesperson', 'at', 'Janssen,', 'the', 'Johnson', '&', 'Johnson', 'subsidiary', 'that', 'developed', 'the', 'vaccine.']",
         "453"
        ],
        [
         "1",
         "WASHINGTON (AP) — The next few weeks are critical to tamping down a disturbing coronavirus surge, Dr. Anthony Fauci told Congress on Tuesday — issuing a plea for people to avoid crowds and wear masks just hours before mask-shunning President Donald Trump was set to address a crowd of his young supporters in one hot spot.Fauci and other top health officials also said they have not been asked to slow down virus testing, in contrast to Trump’s claim last weekend that he had ordered fewer tests be performed because they were uncovering too many infections. Trump said earlier Tuesday that he wasn’t kidding when he made that remark.“We will be doing more testing,” Fauci, infectious disease chief at the National Institutes of Health, pledged to a House committee conducting oversight of the Trump administration’s response to the pandemic.The leading public health officials spent more than five hours testifying before the committee at a fraught moment, with coronavirus cases rising in about half the states and political polarization competing for attention with public health recommendations. Fauci told lawmakers he understands the pent-up desire to get back to normal as the U.S. begins emerging from months of stay-at-home orders and business shutdowns. But that has “to be a gradual step-by-step process and not throwing caution to the wind,” he said.“Plan A, don’t go in a crowd. Plan B, if you do, make sure you wear a mask,” Fauci said.Troubling surges worsened Tuesday in several states, with Arizona, California, Mississippi, Nevada and Texas setting single-day records for new coronavirus cases, and some governors saying they’ll consider reinstating restrictions or delaying plans to ease up in order to help slow the spread of the virus.Arizona, where Trump was headed for a speech at a Phoenix megachurch, reported a new daily record of nearly 3,600 additional coronavirus infections Tuesday. Arizona emerged as a COVID-19 hot spot after Republican Gov. Doug Ducey lifted his stay-home orders in mid-May. Last week he allowed cities and counties to require masks in public places and many have done so.Texas surpassed 5,000 new cases for a single day for the first time — just days after it eclipsed 4,000 new cases for the first time — as America’s largest pediatric hospital began taking adult patients to free up bed space in Houston. The infection rate in Texas has doubled since late May. And Nevada surpassed a record one-day increase for the fourth time in the past eight days. Other states also were experiencing worrisome surges, including Louisiana, Utah and South Carolina. Another worrisome trend: an increase in infections among young adults. Fauci said while COVID-19 tends to be less severe in younger people, some of them do get very sick and even die. And younger people also may be more likely to show no symptoms yet still spread the virus.If people say, “’I’m young, I’m healthy, who cares’ — you should care, not only for yourself but for the impact you might have” on sickening someone more vulnerable, Fauci said. About 2.3 million Americans have been infected and some 120,000 have died, according to data from Johns Hopkins University.Republican Rep. David McKinley of West Virginia asked if Fauci regretted that the American public wasn’t urged sooner to wear face masks, and then interrupted before the visibly annoyed scientist finished answering.Fauci said he didn’t regret the change in recommendations. Early in the pandemic there was a “paucity of equipment” for health workers “who put themselves daily in harm’s way” and “we did not want to divert” those scarce supplies, he said.Scientists eventually recommended the general public use cloth masks, after they better understood that people with no symptoms could be spreading the virus —Trump, meanwhile, doubled down on testing claims that have public health experts appalled, tweeting Tuesday: “Cases are going up in the U.S. because we are testing far more than any other country, and ever expanding. With smaller testing we would show fewer cases! “Full Coverage: Virus OutbreakLess testing in fact means more infections going undetected. The U.S. was slow in ramping up and currently is testing about 500,000 people a day. Many experts say to control the spread of the virus, it should be testing 900,000 or more.Brett Giroir, a Health and Human Services assistant secretary, told lawmakers Tuesday the next step is testing patient samples in large batches to stretch limited supplies, which would expand U.S. screening between fivefold and tenfold. Instead of testing each person individually, health workers would pool samples from 50, 100 or more people from the same office or school, for example. A negative result would clear everyone, while a positive would require each person to be individually re-tested.And Dr. Robert Redfield, head of the Centers for Disease Control and Prevention, added that it’s now recommended for workers in nursing homes — hard-hit by the virus — to be tested weekly. As for the anxiously awaited vaccine, Fauci said he believes “it will be when and not if” it arrives, and he’s “cautiously optimistic” that some vaccine could be available at the end of the year.More than a dozen vaccine candidates are in various stages of testing around the globe, and the U.S. next month is poised to begin the largest study — in 30,000 people — to get the needed proof that one really works. Meanwhile, countries, including the U.S. under a program called “Operation Warp Speed,” are beginning to stockpile millions of doses of different shots, in hopes at least some will prove usable.Health officials assured lawmakers Tuesday that there won’t be shortcuts on safety.“We absolutely must maintain regulatory independence and make the right decision for the American people based on the science and the data,” said Food and Drug Administration Commissioner Stephen Hahn.Democrats blasted Trump for confusing the public with erroneous statements — from testing to masks to unproven treatments — and ignoring the public health experts’ advice. “It costs lives,” Rep. Kathy Castor of Florida said of Trump’s false claims. She urged the public health specialists to do more to counter the president: “We really expect you to be more outspoken.”Pushed on whether schools should reopen in August and September, Redfield insisted that will vary not just by state but by school district, depending on how many infections are in a particular area. “Many jurisdictions will be reopening schools,” and CDC will soon issue some guidelines to help, he said. Fauci noted that schools should tailor their decisions to local conditions, saying some might need few restrictions and others more. He offered the same advice to colleges, saying they should assume some students will get infected and that there must be ways to keep them and their classmates safe.",
         "1",
         "['WASHINGTON', '(AP)', '—', 'The', 'next', 'few', 'weeks', 'are', 'critical', 'to', 'tamping', 'down', 'a', 'disturbing', 'coronavirus', 'surge,', 'Dr.', 'Anthony', 'Fauci', 'told', 'Congress', 'on', 'Tuesday', '—', 'issuing', 'a', 'plea', 'for', 'people', 'to', 'avoid', 'crowds', 'and', 'wear', 'masks', 'just', 'hours', 'before', 'mask-shunning', 'President', 'Donald', 'Trump', 'was', 'set', 'to', 'address', 'a', 'crowd', 'of', 'his', 'young', 'supporters', 'in', 'one', 'hot', 'spot.Fauci', 'and', 'other', 'top', 'health', 'officials', 'also', 'said', 'they', 'have', 'not', 'been', 'asked', 'to', 'slow', 'down', 'virus', 'testing,', 'in', 'contrast', 'to', 'Trump’s', 'claim', 'last', 'weekend', 'that', 'he', 'had', 'ordered', 'fewer', 'tests', 'be', 'performed', 'because', 'they', 'were', 'uncovering', 'too', 'many', 'infections.', 'Trump', 'said', 'earlier', 'Tuesday', 'that', 'he', 'wasn’t', 'kidding', 'when', 'he', 'made', 'that', 'remark.“We', 'will', 'be', 'doing', 'more', 'testing,”', 'Fauci,', 'infectious', 'disease', 'chief', 'at', 'the', 'National', 'Institutes', 'of', 'Health,', 'pledged', 'to', 'a', 'House', 'committee', 'conducting', 'oversight', 'of', 'the', 'Trump', 'administration’s', 'response', 'to', 'the', 'pandemic.The', 'leading', 'public', 'health', 'officials', 'spent', 'more', 'than', 'five', 'hours', 'testifying', 'before', 'the', 'committee', 'at', 'a', 'fraught', 'moment,', 'with', 'coronavirus', 'cases', 'rising', 'in', 'about', 'half', 'the', 'states', 'and', 'political', 'polarization', 'competing', 'for', 'attention', 'with', 'public', 'health', 'recommendations.', 'Fauci', 'told', 'lawmakers', 'he', 'understands', 'the', 'pent-up', 'desire', 'to', 'get', 'back', 'to', 'normal', 'as', 'the', 'U.S.', 'begins', 'emerging', 'from', 'months', 'of', 'stay-at-home', 'orders', 'and', 'business', 'shutdowns.', 'But', 'that', 'has', '“to', 'be', 'a', 'gradual', 'step-by-step', 'process', 'and', 'not', 'throwing', 'caution', 'to', 'the', 'wind,”', 'he', 'said.“Plan', 'A,', 'don’t', 'go', 'in', 'a', 'crowd.', 'Plan', 'B,', 'if', 'you', 'do,', 'make', 'sure', 'you', 'wear', 'a', 'mask,”', 'Fauci', 'said.Troubling', 'surges', 'worsened', 'Tuesday', 'in', 'several', 'states,', 'with', 'Arizona,', 'California,', 'Mississippi,', 'Nevada', 'and', 'Texas', 'setting', 'single-day', 'records', 'for', 'new', 'coronavirus', 'cases,', 'and', 'some', 'governors', 'saying', 'they’ll', 'consider', 'reinstating', 'restrictions', 'or', 'delaying', 'plans', 'to', 'ease', 'up', 'in', 'order', 'to', 'help', 'slow', 'the', 'spread', 'of', 'the', 'virus.Arizona,', 'where', 'Trump', 'was', 'headed', 'for', 'a', 'speech', 'at', 'a', 'Phoenix', 'megachurch,', 'reported', 'a', 'new', 'daily', 'record', 'of', 'nearly', '3,600', 'additional', 'coronavirus', 'infections', 'Tuesday.', 'Arizona', 'emerged', 'as', 'a', 'COVID-19', 'hot', 'spot', 'after', 'Republican', 'Gov.', 'Doug', 'Ducey', 'lifted', 'his', 'stay-home', 'orders', 'in', 'mid-May.', 'Last', 'week', 'he', 'allowed', 'cities', 'and', 'counties', 'to', 'require', 'masks', 'in', 'public', 'places', 'and', 'many', 'have', 'done', 'so.Texas', 'surpassed', '5,000', 'new', 'cases', 'for', 'a', 'single', 'day', 'for', 'the', 'first', 'time', '—', 'just', 'days', 'after', 'it', 'eclipsed', '4,000', 'new', 'cases', 'for', 'the', 'first', 'time', '—', 'as', 'America’s', 'largest', 'pediatric', 'hospital', 'began', 'taking', 'adult', 'patients', 'to', 'free', 'up', 'bed', 'space', 'in', 'Houston.', 'The', 'infection', 'rate', 'in', 'Texas', 'has', 'doubled', 'since', 'late', 'May.', 'And', 'Nevada', 'surpassed', 'a', 'record', 'one-day', 'increase', 'for', 'the', 'fourth', 'time', 'in', 'the', 'past', 'eight', 'days.', 'Other', 'states', 'also', 'were', 'experiencing', 'worrisome', 'surges,', 'including', 'Louisiana,', 'Utah', 'and', 'South', 'Carolina.', 'Another', 'worrisome', 'trend:', 'an', 'increase', 'in', 'infections', 'among', 'young', 'adults.', 'Fauci', 'said', 'while', 'COVID-19', 'tends', 'to', 'be', 'less', 'severe', 'in', 'younger', 'people,', 'some', 'of', 'them', 'do', 'get', 'very', 'sick', 'and', 'even', 'die.', 'And', 'younger', 'people', 'also', 'may', 'be', 'more', 'likely', 'to', 'show', 'no', 'symptoms', 'yet', 'still', 'spread', 'the', 'virus.If', 'people', 'say,', '“’I’m', 'young,', 'I’m', 'healthy,', 'who', 'cares’', '—', 'you', 'should', 'care,', 'not', 'only', 'for', 'yourself', 'but', 'for', 'the', 'impact', 'you', 'might', 'have”', 'on', 'sickening', 'someone', 'more', 'vulnerable,', 'Fauci', 'said.', 'About', '2.3', 'million', 'Americans', 'have', 'been', 'infected', 'and', 'some', '120,000', 'have', 'died,', 'according', 'to', 'data', 'from', 'Johns', 'Hopkins', 'University.Republican', 'Rep.', 'David', 'McKinley', 'of', 'West', 'Virginia', 'asked', 'if', 'Fauci', 'regretted', 'that', 'the', 'American', 'public', 'wasn’t', 'urged', 'sooner', 'to', 'wear', 'face', 'masks,', 'and', 'then', 'interrupted', 'before', 'the', 'visibly', 'annoyed', 'scientist', 'finished', 'answering.Fauci', 'said', 'he', 'didn’t', 'regret', 'the', 'change', 'in', 'recommendations.', 'Early', 'in', 'the', 'pandemic', 'there', 'was', 'a', '“paucity', 'of', 'equipment”', 'for', 'health', 'workers', '“who', 'put', 'themselves', 'daily', 'in', 'harm’s', 'way”', 'and', '“we', 'did', 'not', 'want', 'to', 'divert”', 'those', 'scarce', 'supplies,', 'he', 'said.Scientists', 'eventually', 'recommended', 'the', 'general', 'public', 'use', 'cloth', 'masks,', 'after', 'they', 'better', 'understood', 'that', 'people', 'with', 'no', 'symptoms', 'could', 'be', 'spreading', 'the', 'virus', '—Trump,', 'meanwhile,', 'doubled', 'down', 'on', 'testing', 'claims', 'that', 'have', 'public', 'health', 'experts', 'appalled,', 'tweeting', 'Tuesday:', '“Cases', 'are', 'going', 'up', 'in', 'the', 'U.S.', 'because', 'we', 'are', 'testing', 'far', 'more', 'than', 'any', 'other', 'country,', 'and', 'ever', 'expanding.', 'With', 'smaller', 'testing', 'we', 'would', 'show', 'fewer', 'cases!', '“Full', 'Coverage:', 'Virus', 'OutbreakLess', 'testing', 'in', 'fact', 'means', 'more', 'infections', 'going', 'undetected.', 'The', 'U.S.', 'was', 'slow', 'in', 'ramping', 'up', 'and', 'currently', 'is', 'testing', 'about', '500,000', 'people', 'a', 'day.', 'Many', 'experts', 'say', 'to', 'control', 'the', 'spread', 'of', 'the', 'virus,', 'it', 'should', 'be', 'testing', '900,000', 'or', 'more.Brett', 'Giroir,', 'a', 'Health', 'and', 'Human', 'Services', 'assistant', 'secretary,', 'told', 'lawmakers', 'Tuesday', 'the', 'next', 'step', 'is', 'testing', 'patient', 'samples', 'in', 'large', 'batches', 'to', 'stretch', 'limited', 'supplies,', 'which', 'would', 'expand', 'U.S.', 'screening', 'between', 'fivefold', 'and', 'tenfold.', 'Instead', 'of', 'testing', 'each', 'person', 'individually,', 'health', 'workers', 'would', 'pool', 'samples', 'from', '50,', '100', 'or', 'more', 'people', 'from', 'the', 'same', 'office', 'or', 'school,', 'for', 'example.', 'A', 'negative', 'result', 'would', 'clear', 'everyone,', 'while', 'a', 'positive', 'would', 'require', 'each', 'person', 'to', 'be', 'individually', 're-tested.And', 'Dr.', 'Robert', 'Redfield,', 'head', 'of', 'the', 'Centers', 'for', 'Disease', 'Control', 'and', 'Prevention,', 'added', 'that', 'it’s', 'now', 'recommended', 'for', 'workers', 'in', 'nursing', 'homes', '—', 'hard-hit', 'by', 'the', 'virus', '—', 'to', 'be', 'tested', 'weekly.', 'As', 'for', 'the', 'anxiously', 'awaited', 'vaccine,', 'Fauci', 'said', 'he', 'believes', '“it', 'will', 'be', 'when', 'and', 'not', 'if”', 'it', 'arrives,', 'and', 'he’s', '“cautiously', 'optimistic”', 'that', 'some', 'vaccine', 'could', 'be', 'available', 'at', 'the', 'end', 'of', 'the', 'year.More', 'than', 'a', 'dozen', 'vaccine', 'candidates', 'are', 'in', 'various', 'stages', 'of', 'testing', 'around', 'the', 'globe,', 'and', 'the', 'U.S.', 'next', 'month', 'is', 'poised', 'to', 'begin', 'the', 'largest', 'study', '—', 'in', '30,000', 'people', '—', 'to', 'get', 'the', 'needed', 'proof', 'that', 'one', 'really', 'works.', 'Meanwhile,', 'countries,', 'including', 'the', 'U.S.', 'under', 'a', 'program', 'called', '“Operation', 'Warp', 'Speed,”', 'are', 'beginning', 'to', 'stockpile', 'millions', 'of', 'doses', 'of', 'different', 'shots,', 'in', 'hopes', 'at', 'least', 'some', 'will', 'prove', 'usable.Health', 'officials', 'assured', 'lawmakers', 'Tuesday', 'that', 'there', 'won’t', 'be', 'shortcuts', 'on', 'safety.“We', 'absolutely', 'must', 'maintain', 'regulatory', 'independence', 'and', 'make', 'the', 'right', 'decision', 'for', 'the', 'American', 'people', 'based', 'on', 'the', 'science', 'and', 'the', 'data,”', 'said', 'Food', 'and', 'Drug', 'Administration', 'Commissioner', 'Stephen', 'Hahn.Democrats', 'blasted', 'Trump', 'for', 'confusing', 'the', 'public', 'with', 'erroneous', 'statements', '—', 'from', 'testing', 'to', 'masks', 'to', 'unproven', 'treatments', '—', 'and', 'ignoring', 'the', 'public', 'health', 'experts’', 'advice.', '“It', 'costs', 'lives,”', 'Rep.', 'Kathy', 'Castor', 'of', 'Florida', 'said', 'of', 'Trump’s', 'false', 'claims.', 'She', 'urged', 'the', 'public', 'health', 'specialists', 'to', 'do', 'more', 'to', 'counter', 'the', 'president:', '“We', 'really', 'expect', 'you', 'to', 'be', 'more', 'outspoken.”Pushed', 'on', 'whether', 'schools', 'should', 'reopen', 'in', 'August', 'and', 'September,', 'Redfield', 'insisted', 'that', 'will', 'vary', 'not', 'just', 'by', 'state', 'but', 'by', 'school', 'district,', 'depending', 'on', 'how', 'many', 'infections', 'are', 'in', 'a', 'particular', 'area.', '“Many', 'jurisdictions', 'will', 'be', 'reopening', 'schools,”', 'and', 'CDC', 'will', 'soon', 'issue', 'some', 'guidelines', 'to', 'help,', 'he', 'said.', 'Fauci', 'noted', 'that', 'schools', 'should', 'tailor', 'their', 'decisions', 'to', 'local', 'conditions,', 'saying', 'some', 'might', 'need', 'few', 'restrictions', 'and', 'others', 'more.', 'He', 'offered', 'the', 'same', 'advice', 'to', 'colleges,', 'saying', 'they', 'should', 'assume', 'some', 'students', 'will', 'get', 'infected', 'and', 'that', 'there', 'must', 'be', 'ways', 'to', 'keep', 'them', 'and', 'their', 'classmates', 'safe.']",
         "1110"
        ],
        [
         "2",
         "Senate Minority Leader Charles SchumerChuck SchumerDemocratic Senate debates merits of passion vs. pragmatism Former prisoner becomes first sworn in for seat in New York state legislature On The Money — Inflation hits highest rate since February 1982 MORE (D-N.Y.) signaled on Tuesday that Democrats are prepared to block a GOP police reform bill.Schumer, speaking from the Senate floor, sent his strongest warning yet that the Republican bill — spearheaded by Sen. Tim ScottTimothy (Tim) Eugene ScottBass would move hundreds of LAPD officers from desk jobs into patrols if elected mayor Juan Williams: GOP playing with racial fire over Supreme Court pick Graham lobbies White House on Childs for Supreme Court seat MORE (S.C.), the only Black GOP senator — will not advance and urged Senate Majority Leader Mitch McConnellAddison (Mitch) Mitchell McConnellRepublicans take cheap shots at Fed nominees Republicans do not have a right to remain silent White House uses GOP's own rhetoric to rebut Supreme Court criticisms MORE (R-Ky.) to back down.\"We Democrats are certain that the McConnell plan will not, indeed cannot, result in any legislation passing. It's clear that the Republican bill, as is, will not get 60 votes. There's overwhelming opposition to the bill in our caucus,\" Schumer said.\"Because the bill needs such large-scale and fundamental change, there is no conceivable way that a series of amendments strong enough to cure the defects in the bill garner 60 votes either. So no bill will pass as a result of this ploy by Sen. McConnell,\" he added.The Republican bill will get a key test vote on Wednesday, when it will need 60 votes, including at least seven Democrats, to overcome an initial procedural hurdle. Sen. Doug Jones (Ala.) is the only Democrat who has indicated that he could vote to proceed to the GOP bill, leaving Republicans short of the support needed.A growing number of Democrats, including Senate Democratic Whip Dick DurbinDick DurbinLawmakers rolling out Violence Against Women Act without 'controversial' provision Biden to meet with Senate Judiciary Democrats on Supreme Court vacancy Will Republicans apply the 'Barrett rule' to Biden's nominee? MORE (Ill.) and Sens. Kamala HarrisKamala HarrisThe allure of 'strong and wrong' Parties split on Trump, Biden bids in 2024: poll Democratic Senate debates merits of passion vs. pragmatism MORE (Calif.) and Cory BookerCory BookerCory Booker and Rosario Dawson have reportedly split Schumer asks for input as Democrats finalize cannabis bill Bass would move hundreds of LAPD officers from desk jobs into patrols if elected mayor MORE (N.J.), the only two Black Democratic senators, will vote against proceeding to the bill on Wednesday. Durbin, however, said that the caucus as a whole had not taken a position on blocking the GOP bill if it comes up for a vote now.\"The problem with the bill that Leader McConnell wants to put on the floor, it's not bold. It's not courageous. There is no great imagination about what we can be. It doesn't challenge us to come together. What it does is it guarantees that the cycle of violence in our country, the cycle of the abuse of civil rights, the cycle of death that has so moved so many Americans will continue,\" Booker said from the Senate floor. Harris added that while she would vote against proceeding to the GOP bill, she would be willing to vote to take up \"real reform.\"\"Let's proceed with action, not gestures, with action,\" she added. But McConnell showed no signs of backing down on Tuesday, accusing Democrats of potentially blocking the bill to make a political point.\"The American people expect us to do our jobs, discuss debate and legislate on this subject that has captured the nation's attention. Discussion, debate, votes on amendments. Tomorrow we'll find out whether even these modest steps are a bridge too far for our colleagues on the Democratic side,\" McConnell said.Sen. John CornynJohn CornynPhotos of the Week: Marking COVID-19 deaths, Mt. Etna and Olympic snowboarders Questions loom over how to form congressional staff union Lobbying world MORE (R-Texas), an advisor to McConnell, also appeared uninterested in trying to negotiate a deal ahead of the Wednesday vote, comparing Democrats to \"hostage takers.\" \"Don't they understand how the Senate operates?\" he asked. \"I'm not really all that interested in negotiating with hostage takers. That's what this is.\" Democrats say the bill falls short of calls for law enforcement reforms in the wake of the police killing of George Floyd. And after weeks of protests calling for the end of police brutality and systemic racism, they believe they have public support on their side.Schumer, Booker and Harris sent a letter to McConnell on Tuesday urging him to cancel the Wednesday vote on the bill and start negotiating with Democrats, something he previously said would not happen until the Senate had agreed to start debate on the GOP bill. “We will not meet this moment by holding a floor vote on the JUSTICE Act, nor can we simply amend this bill, which is so threadbare and lacking in substance that it does not even provide a proper baseline for negotiations. This bill is not salvageable and we need bipartisan talks to get to a constructive starting point,” they wrote.“Bringing the JUSTICE Act to the floor of the Senate is a woefully inadequate response, and we urge you to bring meaningful legislation to the floor for a vote,” they added. The GOP bill would use federal grants to try to incentivize state and local law enforcement to ban chokeholds. It also includes new reporting on the use of force by police and the use of no-knock warrants, has new penalties for not using body cameras, has new requirements on law enforcement records retention and would include a separate bill that makes lynching a federal hate crime.But Democrats say it falls woefully short, particularly by not curbing the use of no-knock warrants, and not addressing qualified immunity, which shields police officers from civil lawsuits.The House is expected to vote on the Democratic plan on Thursday, where it is expected to pass along party lines. —Updated at 12:05 p.m.",
         "1",
         "['Senate', 'Minority', 'Leader', 'Charles', 'SchumerChuck', 'SchumerDemocratic', 'Senate', 'debates', 'merits', 'of', 'passion', 'vs.', 'pragmatism', 'Former', 'prisoner', 'becomes', 'first', 'sworn', 'in', 'for', 'seat', 'in', 'New', 'York', 'state', 'legislature', 'On', 'The', 'Money', '—', 'Inflation', 'hits', 'highest', 'rate', 'since', 'February', '1982', 'MORE', '(D-N.Y.)', 'signaled', 'on', 'Tuesday', 'that', 'Democrats', 'are', 'prepared', 'to', 'block', 'a', 'GOP', 'police', 'reform', 'bill.Schumer,', 'speaking', 'from', 'the', 'Senate', 'floor,', 'sent', 'his', 'strongest', 'warning', 'yet', 'that', 'the', 'Republican', 'bill', '—', 'spearheaded', 'by', 'Sen.', 'Tim', 'ScottTimothy', '(Tim)', 'Eugene', 'ScottBass', 'would', 'move', 'hundreds', 'of', 'LAPD', 'officers', 'from', 'desk', 'jobs', 'into', 'patrols', 'if', 'elected', 'mayor', 'Juan', 'Williams:', 'GOP', 'playing', 'with', 'racial', 'fire', 'over', 'Supreme', 'Court', 'pick', 'Graham', 'lobbies', 'White', 'House', 'on', 'Childs', 'for', 'Supreme', 'Court', 'seat', 'MORE', '(S.C.),', 'the', 'only', 'Black', 'GOP', 'senator', '—', 'will', 'not', 'advance', 'and', 'urged', 'Senate', 'Majority', 'Leader', 'Mitch', 'McConnellAddison', '(Mitch)', 'Mitchell', 'McConnellRepublicans', 'take', 'cheap', 'shots', 'at', 'Fed', 'nominees', 'Republicans', 'do', 'not', 'have', 'a', 'right', 'to', 'remain', 'silent', 'White', 'House', 'uses', \"GOP's\", 'own', 'rhetoric', 'to', 'rebut', 'Supreme', 'Court', 'criticisms', 'MORE', '(R-Ky.)', 'to', 'back', 'down.\"We', 'Democrats', 'are', 'certain', 'that', 'the', 'McConnell', 'plan', 'will', 'not,', 'indeed', 'cannot,', 'result', 'in', 'any', 'legislation', 'passing.', \"It's\", 'clear', 'that', 'the', 'Republican', 'bill,', 'as', 'is,', 'will', 'not', 'get', '60', 'votes.', \"There's\", 'overwhelming', 'opposition', 'to', 'the', 'bill', 'in', 'our', 'caucus,\"', 'Schumer', 'said.\"Because', 'the', 'bill', 'needs', 'such', 'large-scale', 'and', 'fundamental', 'change,', 'there', 'is', 'no', 'conceivable', 'way', 'that', 'a', 'series', 'of', 'amendments', 'strong', 'enough', 'to', 'cure', 'the', 'defects', 'in', 'the', 'bill', 'garner', '60', 'votes', 'either.', 'So', 'no', 'bill', 'will', 'pass', 'as', 'a', 'result', 'of', 'this', 'ploy', 'by', 'Sen.', 'McConnell,\"', 'he', 'added.The', 'Republican', 'bill', 'will', 'get', 'a', 'key', 'test', 'vote', 'on', 'Wednesday,', 'when', 'it', 'will', 'need', '60', 'votes,', 'including', 'at', 'least', 'seven', 'Democrats,', 'to', 'overcome', 'an', 'initial', 'procedural', 'hurdle.', 'Sen.', 'Doug', 'Jones', '(Ala.)', 'is', 'the', 'only', 'Democrat', 'who', 'has', 'indicated', 'that', 'he', 'could', 'vote', 'to', 'proceed', 'to', 'the', 'GOP', 'bill,', 'leaving', 'Republicans', 'short', 'of', 'the', 'support', 'needed.A', 'growing', 'number', 'of', 'Democrats,', 'including', 'Senate', 'Democratic', 'Whip', 'Dick', 'DurbinDick', 'DurbinLawmakers', 'rolling', 'out', 'Violence', 'Against', 'Women', 'Act', 'without', \"'controversial'\", 'provision', 'Biden', 'to', 'meet', 'with', 'Senate', 'Judiciary', 'Democrats', 'on', 'Supreme', 'Court', 'vacancy', 'Will', 'Republicans', 'apply', 'the', \"'Barrett\", \"rule'\", 'to', \"Biden's\", 'nominee?', 'MORE', '(Ill.)', 'and', 'Sens.', 'Kamala', 'HarrisKamala', 'HarrisThe', 'allure', 'of', \"'strong\", 'and', \"wrong'\", 'Parties', 'split', 'on', 'Trump,', 'Biden', 'bids', 'in', '2024:', 'poll', 'Democratic', 'Senate', 'debates', 'merits', 'of', 'passion', 'vs.', 'pragmatism', 'MORE', '(Calif.)', 'and', 'Cory', 'BookerCory', 'BookerCory', 'Booker', 'and', 'Rosario', 'Dawson', 'have', 'reportedly', 'split', 'Schumer', 'asks', 'for', 'input', 'as', 'Democrats', 'finalize', 'cannabis', 'bill', 'Bass', 'would', 'move', 'hundreds', 'of', 'LAPD', 'officers', 'from', 'desk', 'jobs', 'into', 'patrols', 'if', 'elected', 'mayor', 'MORE', '(N.J.),', 'the', 'only', 'two', 'Black', 'Democratic', 'senators,', 'will', 'vote', 'against', 'proceeding', 'to', 'the', 'bill', 'on', 'Wednesday.', 'Durbin,', 'however,', 'said', 'that', 'the', 'caucus', 'as', 'a', 'whole', 'had', 'not', 'taken', 'a', 'position', 'on', 'blocking', 'the', 'GOP', 'bill', 'if', 'it', 'comes', 'up', 'for', 'a', 'vote', 'now.\"The', 'problem', 'with', 'the', 'bill', 'that', 'Leader', 'McConnell', 'wants', 'to', 'put', 'on', 'the', 'floor,', \"it's\", 'not', 'bold.', \"It's\", 'not', 'courageous.', 'There', 'is', 'no', 'great', 'imagination', 'about', 'what', 'we', 'can', 'be.', 'It', \"doesn't\", 'challenge', 'us', 'to', 'come', 'together.', 'What', 'it', 'does', 'is', 'it', 'guarantees', 'that', 'the', 'cycle', 'of', 'violence', 'in', 'our', 'country,', 'the', 'cycle', 'of', 'the', 'abuse', 'of', 'civil', 'rights,', 'the', 'cycle', 'of', 'death', 'that', 'has', 'so', 'moved', 'so', 'many', 'Americans', 'will', 'continue,\"', 'Booker', 'said', 'from', 'the', 'Senate', 'floor.', 'Harris', 'added', 'that', 'while', 'she', 'would', 'vote', 'against', 'proceeding', 'to', 'the', 'GOP', 'bill,', 'she', 'would', 'be', 'willing', 'to', 'vote', 'to', 'take', 'up', '\"real', 'reform.\"\"Let\\'s', 'proceed', 'with', 'action,', 'not', 'gestures,', 'with', 'action,\"', 'she', 'added.', 'But', 'McConnell', 'showed', 'no', 'signs', 'of', 'backing', 'down', 'on', 'Tuesday,', 'accusing', 'Democrats', 'of', 'potentially', 'blocking', 'the', 'bill', 'to', 'make', 'a', 'political', 'point.\"The', 'American', 'people', 'expect', 'us', 'to', 'do', 'our', 'jobs,', 'discuss', 'debate', 'and', 'legislate', 'on', 'this', 'subject', 'that', 'has', 'captured', 'the', \"nation's\", 'attention.', 'Discussion,', 'debate,', 'votes', 'on', 'amendments.', 'Tomorrow', \"we'll\", 'find', 'out', 'whether', 'even', 'these', 'modest', 'steps', 'are', 'a', 'bridge', 'too', 'far', 'for', 'our', 'colleagues', 'on', 'the', 'Democratic', 'side,\"', 'McConnell', 'said.Sen.', 'John', 'CornynJohn', 'CornynPhotos', 'of', 'the', 'Week:', 'Marking', 'COVID-19', 'deaths,', 'Mt.', 'Etna', 'and', 'Olympic', 'snowboarders', 'Questions', 'loom', 'over', 'how', 'to', 'form', 'congressional', 'staff', 'union', 'Lobbying', 'world', 'MORE', '(R-Texas),', 'an', 'advisor', 'to', 'McConnell,', 'also', 'appeared', 'uninterested', 'in', 'trying', 'to', 'negotiate', 'a', 'deal', 'ahead', 'of', 'the', 'Wednesday', 'vote,', 'comparing', 'Democrats', 'to', '\"hostage', 'takers.\"', '\"Don\\'t', 'they', 'understand', 'how', 'the', 'Senate', 'operates?\"', 'he', 'asked.', '\"I\\'m', 'not', 'really', 'all', 'that', 'interested', 'in', 'negotiating', 'with', 'hostage', 'takers.', \"That's\", 'what', 'this', 'is.\"', 'Democrats', 'say', 'the', 'bill', 'falls', 'short', 'of', 'calls', 'for', 'law', 'enforcement', 'reforms', 'in', 'the', 'wake', 'of', 'the', 'police', 'killing', 'of', 'George', 'Floyd.', 'And', 'after', 'weeks', 'of', 'protests', 'calling', 'for', 'the', 'end', 'of', 'police', 'brutality', 'and', 'systemic', 'racism,', 'they', 'believe', 'they', 'have', 'public', 'support', 'on', 'their', 'side.Schumer,', 'Booker', 'and', 'Harris', 'sent', 'a', 'letter', 'to', 'McConnell', 'on', 'Tuesday', 'urging', 'him', 'to', 'cancel', 'the', 'Wednesday', 'vote', 'on', 'the', 'bill', 'and', 'start', 'negotiating', 'with', 'Democrats,', 'something', 'he', 'previously', 'said', 'would', 'not', 'happen', 'until', 'the', 'Senate', 'had', 'agreed', 'to', 'start', 'debate', 'on', 'the', 'GOP', 'bill.', '“We', 'will', 'not', 'meet', 'this', 'moment', 'by', 'holding', 'a', 'floor', 'vote', 'on', 'the', 'JUSTICE', 'Act,', 'nor', 'can', 'we', 'simply', 'amend', 'this', 'bill,', 'which', 'is', 'so', 'threadbare', 'and', 'lacking', 'in', 'substance', 'that', 'it', 'does', 'not', 'even', 'provide', 'a', 'proper', 'baseline', 'for', 'negotiations.', 'This', 'bill', 'is', 'not', 'salvageable', 'and', 'we', 'need', 'bipartisan', 'talks', 'to', 'get', 'to', 'a', 'constructive', 'starting', 'point,”', 'they', 'wrote.“Bringing', 'the', 'JUSTICE', 'Act', 'to', 'the', 'floor', 'of', 'the', 'Senate', 'is', 'a', 'woefully', 'inadequate', 'response,', 'and', 'we', 'urge', 'you', 'to', 'bring', 'meaningful', 'legislation', 'to', 'the', 'floor', 'for', 'a', 'vote,”', 'they', 'added.', 'The', 'GOP', 'bill', 'would', 'use', 'federal', 'grants', 'to', 'try', 'to', 'incentivize', 'state', 'and', 'local', 'law', 'enforcement', 'to', 'ban', 'chokeholds.', 'It', 'also', 'includes', 'new', 'reporting', 'on', 'the', 'use', 'of', 'force', 'by', 'police', 'and', 'the', 'use', 'of', 'no-knock', 'warrants,', 'has', 'new', 'penalties', 'for', 'not', 'using', 'body', 'cameras,', 'has', 'new', 'requirements', 'on', 'law', 'enforcement', 'records', 'retention', 'and', 'would', 'include', 'a', 'separate', 'bill', 'that', 'makes', 'lynching', 'a', 'federal', 'hate', 'crime.But', 'Democrats', 'say', 'it', 'falls', 'woefully', 'short,', 'particularly', 'by', 'not', 'curbing', 'the', 'use', 'of', 'no-knock', 'warrants,', 'and', 'not', 'addressing', 'qualified', 'immunity,', 'which', 'shields', 'police', 'officers', 'from', 'civil', 'lawsuits.The', 'House', 'is', 'expected', 'to', 'vote', 'on', 'the', 'Democratic', 'plan', 'on', 'Thursday,', 'where', 'it', 'is', 'expected', 'to', 'pass', 'along', 'party', 'lines.', '—Updated', 'at', '12:05', 'p.m.']",
         "1007"
        ],
        [
         "3",
         "NASCAR went to Talladega Superspeedway on heightened alert after Bubba Wallace, its only Black driver, took on an active role in a push for racial equality.Wallace had successfully called for the ban of the Confederate flag and received threats. Fans paraded past the main entrance of the Alabama track displaying the flag, and a plane circled above the speedway pulling a Confederate flag banner that read “Defund NASCAR.” So NASCAR moved quickly when one of Wallace’s crew members discovered a rope shaped like a noose in their garage stall. The sanctioning body called in federal authorities, who ruled Tuesday the rope had been hanging there since at least last October and was not a hate crime. U.S. Attorney Jay Town and FBI Special Agent in Charge Johnnie Sharp Jr. said the investigation determined “nobody could have known Mr. Wallace would be assigned” to that same stall. NASCAR said it was the lone garage stall with a pull down rope that resembled a noose.NASCAR has defended its reaction and insisted it would call the FBI again. A defiant Wallace said there is no confusion and the rope had been fashioned into a noose. “I wanted to make sure this wasn’t just a knot,” Wallace said on CNN. “It was a noose. Whether it was tied in 2019 ... it is a noose.”Wallace never saw the rope. He said NASCAR President Steve Phelps came to see him Sunday night at the track with “tears running down his face.”“The evidence he brought to me was that a hate crime has been committed,” said Wallace, who instantly began to fear for the safety of his family. Even after the FBI concluded that it was not a hate crime, Wallace remained angry at what he perceives as constant tests of his character. He holds no ill-will toward NASCAR. “I stand behind Steve and I stand behind NASCAR,” he said. “NASCAR was worried about Talladega. We had that one circled on the radar with everything going on.”NASCAR opened the Talladega gates to 5,000 fans, its highest number so far during the coronavirus pandemic. Since finding his voice over the last month, the 26-year-old Mobile, Alabama native has embraced an international role in NASCAR’s attempt to push past its rocky racial history. Wallace has worn an “I Can’t Breathe” shirt, raced with a Black Lives Matter paint scheme in Virginia and successfully lobbied for the Confederate flag ban. NASCAR assigned security to Wallace at the track. The first word of the incident came in a sharply worded statement in which NASCAR said it was “angry and outraged” over the “heinous act” that the series directly linked to racism. The FBI sent 15 agents to Talladega for Monday’s rescheduled race at the same time the industry rallied around Wallace. In an unprecedented show of solidarity, every team member on pit road lined up behind him during the national anthem. Phelps has taken exactly nine questions about the finding in Wallace’s garage and none provided any details of the incident. Because of health protocol restrictions, a limited number of personnel have access to the garage. Only a handful of Wallace’s crew members and NASCAR saw the rope. Roughly 48 hours after the discovery, federal authorities said video confirmed the rope “was in that garage as early as October 2019” hanging from a garage door. The rope was referred to as a noose, but can be used as a handle when closing the door. Phelps continued to call it a noose after authorities said no charges would be filed, and held firm in that NASCAR is investigating why the rope was tied that way. He was pleased it wasn’t a hate crime directed at Wallace, but insisted NASCAR would have conducted its investigation the same way even now knowing it was just a coincidence. “We would have done the same investigation. It was important for us to do,” he said. “The evidence was very clear that the noose that was in the garage was in there previously. The last race we had in October, that noose was present. The evidence we had, it was clear we needed to look into this.”He took no questions on the FBI’s findings. Meanwhile, Wood Brothers Racing team said it cooperated with the investigation and an employee recalled “seeing a tied handle in the garage pull down rope from last fall,” when the team had the stall. NASCAR saying it had found a noose stunned the stock car series as it takes an active position in a push for inclusion. The series first tried to ban the Confederate flag five years ago but did nothing to enforce the order. NASCAR has yet to detail how it will answer Wallace’s call to stop the display of the flag.",
         "1",
         "['NASCAR', 'went', 'to', 'Talladega', 'Superspeedway', 'on', 'heightened', 'alert', 'after', 'Bubba', 'Wallace,', 'its', 'only', 'Black', 'driver,', 'took', 'on', 'an', 'active', 'role', 'in', 'a', 'push', 'for', 'racial', 'equality.Wallace', 'had', 'successfully', 'called', 'for', 'the', 'ban', 'of', 'the', 'Confederate', 'flag', 'and', 'received', 'threats.', 'Fans', 'paraded', 'past', 'the', 'main', 'entrance', 'of', 'the', 'Alabama', 'track', 'displaying', 'the', 'flag,', 'and', 'a', 'plane', 'circled', 'above', 'the', 'speedway', 'pulling', 'a', 'Confederate', 'flag', 'banner', 'that', 'read', '“Defund', 'NASCAR.”', 'So', 'NASCAR', 'moved', 'quickly', 'when', 'one', 'of', 'Wallace’s', 'crew', 'members', 'discovered', 'a', 'rope', 'shaped', 'like', 'a', 'noose', 'in', 'their', 'garage', 'stall.', 'The', 'sanctioning', 'body', 'called', 'in', 'federal', 'authorities,', 'who', 'ruled', 'Tuesday', 'the', 'rope', 'had', 'been', 'hanging', 'there', 'since', 'at', 'least', 'last', 'October', 'and', 'was', 'not', 'a', 'hate', 'crime.', 'U.S.', 'Attorney', 'Jay', 'Town', 'and', 'FBI', 'Special', 'Agent', 'in', 'Charge', 'Johnnie', 'Sharp', 'Jr.', 'said', 'the', 'investigation', 'determined', '“nobody', 'could', 'have', 'known', 'Mr.', 'Wallace', 'would', 'be', 'assigned”', 'to', 'that', 'same', 'stall.', 'NASCAR', 'said', 'it', 'was', 'the', 'lone', 'garage', 'stall', 'with', 'a', 'pull', 'down', 'rope', 'that', 'resembled', 'a', 'noose.NASCAR', 'has', 'defended', 'its', 'reaction', 'and', 'insisted', 'it', 'would', 'call', 'the', 'FBI', 'again.', 'A', 'defiant', 'Wallace', 'said', 'there', 'is', 'no', 'confusion', 'and', 'the', 'rope', 'had', 'been', 'fashioned', 'into', 'a', 'noose.', '“I', 'wanted', 'to', 'make', 'sure', 'this', 'wasn’t', 'just', 'a', 'knot,”', 'Wallace', 'said', 'on', 'CNN.', '“It', 'was', 'a', 'noose.', 'Whether', 'it', 'was', 'tied', 'in', '2019', '...', 'it', 'is', 'a', 'noose.”Wallace', 'never', 'saw', 'the', 'rope.', 'He', 'said', 'NASCAR', 'President', 'Steve', 'Phelps', 'came', 'to', 'see', 'him', 'Sunday', 'night', 'at', 'the', 'track', 'with', '“tears', 'running', 'down', 'his', 'face.”“The', 'evidence', 'he', 'brought', 'to', 'me', 'was', 'that', 'a', 'hate', 'crime', 'has', 'been', 'committed,”', 'said', 'Wallace,', 'who', 'instantly', 'began', 'to', 'fear', 'for', 'the', 'safety', 'of', 'his', 'family.', 'Even', 'after', 'the', 'FBI', 'concluded', 'that', 'it', 'was', 'not', 'a', 'hate', 'crime,', 'Wallace', 'remained', 'angry', 'at', 'what', 'he', 'perceives', 'as', 'constant', 'tests', 'of', 'his', 'character.', 'He', 'holds', 'no', 'ill-will', 'toward', 'NASCAR.', '“I', 'stand', 'behind', 'Steve', 'and', 'I', 'stand', 'behind', 'NASCAR,”', 'he', 'said.', '“NASCAR', 'was', 'worried', 'about', 'Talladega.', 'We', 'had', 'that', 'one', 'circled', 'on', 'the', 'radar', 'with', 'everything', 'going', 'on.”NASCAR', 'opened', 'the', 'Talladega', 'gates', 'to', '5,000', 'fans,', 'its', 'highest', 'number', 'so', 'far', 'during', 'the', 'coronavirus', 'pandemic.', 'Since', 'finding', 'his', 'voice', 'over', 'the', 'last', 'month,', 'the', '26-year-old', 'Mobile,', 'Alabama', 'native', 'has', 'embraced', 'an', 'international', 'role', 'in', 'NASCAR’s', 'attempt', 'to', 'push', 'past', 'its', 'rocky', 'racial', 'history.', 'Wallace', 'has', 'worn', 'an', '“I', 'Can’t', 'Breathe”', 'shirt,', 'raced', 'with', 'a', 'Black', 'Lives', 'Matter', 'paint', 'scheme', 'in', 'Virginia', 'and', 'successfully', 'lobbied', 'for', 'the', 'Confederate', 'flag', 'ban.', 'NASCAR', 'assigned', 'security', 'to', 'Wallace', 'at', 'the', 'track.', 'The', 'first', 'word', 'of', 'the', 'incident', 'came', 'in', 'a', 'sharply', 'worded', 'statement', 'in', 'which', 'NASCAR', 'said', 'it', 'was', '“angry', 'and', 'outraged”', 'over', 'the', '“heinous', 'act”', 'that', 'the', 'series', 'directly', 'linked', 'to', 'racism.', 'The', 'FBI', 'sent', '15', 'agents', 'to', 'Talladega', 'for', 'Monday’s', 'rescheduled', 'race', 'at', 'the', 'same', 'time', 'the', 'industry', 'rallied', 'around', 'Wallace.', 'In', 'an', 'unprecedented', 'show', 'of', 'solidarity,', 'every', 'team', 'member', 'on', 'pit', 'road', 'lined', 'up', 'behind', 'him', 'during', 'the', 'national', 'anthem.', 'Phelps', 'has', 'taken', 'exactly', 'nine', 'questions', 'about', 'the', 'finding', 'in', 'Wallace’s', 'garage', 'and', 'none', 'provided', 'any', 'details', 'of', 'the', 'incident.', 'Because', 'of', 'health', 'protocol', 'restrictions,', 'a', 'limited', 'number', 'of', 'personnel', 'have', 'access', 'to', 'the', 'garage.', 'Only', 'a', 'handful', 'of', 'Wallace’s', 'crew', 'members', 'and', 'NASCAR', 'saw', 'the', 'rope.', 'Roughly', '48', 'hours', 'after', 'the', 'discovery,', 'federal', 'authorities', 'said', 'video', 'confirmed', 'the', 'rope', '“was', 'in', 'that', 'garage', 'as', 'early', 'as', 'October', '2019”', 'hanging', 'from', 'a', 'garage', 'door.', 'The', 'rope', 'was', 'referred', 'to', 'as', 'a', 'noose,', 'but', 'can', 'be', 'used', 'as', 'a', 'handle', 'when', 'closing', 'the', 'door.', 'Phelps', 'continued', 'to', 'call', 'it', 'a', 'noose', 'after', 'authorities', 'said', 'no', 'charges', 'would', 'be', 'filed,', 'and', 'held', 'firm', 'in', 'that', 'NASCAR', 'is', 'investigating', 'why', 'the', 'rope', 'was', 'tied', 'that', 'way.', 'He', 'was', 'pleased', 'it', 'wasn’t', 'a', 'hate', 'crime', 'directed', 'at', 'Wallace,', 'but', 'insisted', 'NASCAR', 'would', 'have', 'conducted', 'its', 'investigation', 'the', 'same', 'way', 'even', 'now', 'knowing', 'it', 'was', 'just', 'a', 'coincidence.', '“We', 'would', 'have', 'done', 'the', 'same', 'investigation.', 'It', 'was', 'important', 'for', 'us', 'to', 'do,”', 'he', 'said.', '“The', 'evidence', 'was', 'very', 'clear', 'that', 'the', 'noose', 'that', 'was', 'in', 'the', 'garage', 'was', 'in', 'there', 'previously.', 'The', 'last', 'race', 'we', 'had', 'in', 'October,', 'that', 'noose', 'was', 'present.', 'The', 'evidence', 'we', 'had,', 'it', 'was', 'clear', 'we', 'needed', 'to', 'look', 'into', 'this.”He', 'took', 'no', 'questions', 'on', 'the', 'FBI’s', 'findings.', 'Meanwhile,', 'Wood', 'Brothers', 'Racing', 'team', 'said', 'it', 'cooperated', 'with', 'the', 'investigation', 'and', 'an', 'employee', 'recalled', '“seeing', 'a', 'tied', 'handle', 'in', 'the', 'garage', 'pull', 'down', 'rope', 'from', 'last', 'fall,”', 'when', 'the', 'team', 'had', 'the', 'stall.', 'NASCAR', 'saying', 'it', 'had', 'found', 'a', 'noose', 'stunned', 'the', 'stock', 'car', 'series', 'as', 'it', 'takes', 'an', 'active', 'position', 'in', 'a', 'push', 'for', 'inclusion.', 'The', 'series', 'first', 'tried', 'to', 'ban', 'the', 'Confederate', 'flag', 'five', 'years', 'ago', 'but', 'did', 'nothing', 'to', 'enforce', 'the', 'order.', 'NASCAR', 'has', 'yet', 'to', 'detail', 'how', 'it', 'will', 'answer', 'Wallace’s', 'call', 'to', 'stop', 'the', 'display', 'of', 'the', 'flag.']",
         "792"
        ],
        [
         "4",
         "WASHINGTON (Reuters) - A U.S. appeals court on Wednesday directed a federal judge to drop a criminal case against President Donald Trump’s former national security adviser Michael Flynn for lying to the FBI, handing the Justice Department a victory in the politically charged case.Wednesday’s ruling by a three-judge panel is likely to anger Democrats, who have accused Attorney General William Barr of improperly meddling in criminal cases to help benefit the Republican Trump’s friends and political allies.A source familiar with the matter told Reuters that Wednesday’s ruling will likely be appealed to a larger panel of the federal appeals court.Trump, who has signaled a possible pardon for Flynn, welcomed the ruling. “I’m very happy about General Flynn. He was treated horribly,” Trump told reporters at the White House.In the 2-1 decision, the U.S. Court of Appeals for the District of Columbia Circuit ruled in favor of Flynn and the Trump administration in preventing U.S. District Judge Emmet Sullivan from exercising his discretion on whether to grant the department’s motion to clear Flynn, who twice pleaded guilty.The ruling prevents Judge Sullivan from hearing arguments at a July 16 hearing from retired judge John Gleeson, whom he appointed as a “friend of the court” to argue against dropping the case.“In this case, the district court’s actions will result in specific harms to the exercise of the executive branch’s exclusive prosecutorial power,” wrote Judge Neomi Rao, who was appointed by Trump.“The contemplated proceedings would likely require the Executive to reveal the internal deliberative process behind its exercise of prosecutorial discretion.”Flynn, a retired Army lieutenant general, was one of several former Trump aides charged under former Special Counsel Robert Mueller’s investigation that detailed Moscow’s interference in the 2016 U.S. presidential election.Flynn twice pleaded guilty to lying to the FBI about his conversations with Russia’s then-ambassador, Sergey Kislyak.He then switched lawyers to pursue a new scorched-earth tactic that accused the FBI of entrapping him, and asked the judge to dismiss the charge.WILKINS DISSENTSJudge Robert Wilkins, an Obama administration appointee, dissented.He said the Justice Department’s flip-flop on the case raised questions that merited further scrutiny by the District Court.“In 2017, the then-Acting Attorney General told the Vice President that Flynn’s false statements ‘posed a potential compromise situation for Flynn’ with the Russians,” Wilkins wrote. “Now, in a complete reversal, the government says none of this is true.”“This is no mere about-face; it is more akin to turning around an aircraft carrier.”After the Justice Department took the highly unusual step of seeking to abandon the case against Flynn, Sullivan appointed Gleeson to argue against the Justice Department’s request.FILE PHOTO: Former U.S. national security adviser Michael Flynn departs U.S. District Court In Washington, U.S., December 18, 2018. REUTERS/Joshua RobertsHe also asked Gleeson to weigh in on whether Sullivan should hold Flynn in contempt for lying when pleading guilty.Sullivan has said he cannot serve as a “rubber stamp” and must carefully review the facts in this “unprecedented” request.In the majority opinion on Wednesday, the appeals court called Sullivan’s appointment of Gleeson “troubling,” and said it was granting Flynn’s petition to get the case dismissed to “prevent the judicial usurpation of executive power.”Gleeson had urged Sullivan to proceed with sentencing Flynn and accused the department of “gross abuse of prosecutorial power” in to “provide special treatment to a favored friend and political ally of the President of the United States.”Beth Wilkinson, a veteran Washington trial lawyer who argued the case on Judge Sullivan’s behalf before the appeals court, declined to comment.Reporting by Sarah N. Lynch; additional reporting by Steve Holland and Mark Hosenball; Editing by Alistair Bell and Howard Gollerfor-phone-onlyfor-tablet-portrait-upfor-tablet-landscape-upfor-desktop-upfor-wide-desktop-up",
         "1",
         "['WASHINGTON', '(Reuters)', '-', 'A', 'U.S.', 'appeals', 'court', 'on', 'Wednesday', 'directed', 'a', 'federal', 'judge', 'to', 'drop', 'a', 'criminal', 'case', 'against', 'President', 'Donald', 'Trump’s', 'former', 'national', 'security', 'adviser', 'Michael', 'Flynn', 'for', 'lying', 'to', 'the', 'FBI,', 'handing', 'the', 'Justice', 'Department', 'a', 'victory', 'in', 'the', 'politically', 'charged', 'case.Wednesday’s', 'ruling', 'by', 'a', 'three-judge', 'panel', 'is', 'likely', 'to', 'anger', 'Democrats,', 'who', 'have', 'accused', 'Attorney', 'General', 'William', 'Barr', 'of', 'improperly', 'meddling', 'in', 'criminal', 'cases', 'to', 'help', 'benefit', 'the', 'Republican', 'Trump’s', 'friends', 'and', 'political', 'allies.A', 'source', 'familiar', 'with', 'the', 'matter', 'told', 'Reuters', 'that', 'Wednesday’s', 'ruling', 'will', 'likely', 'be', 'appealed', 'to', 'a', 'larger', 'panel', 'of', 'the', 'federal', 'appeals', 'court.Trump,', 'who', 'has', 'signaled', 'a', 'possible', 'pardon', 'for', 'Flynn,', 'welcomed', 'the', 'ruling.', '“I’m', 'very', 'happy', 'about', 'General', 'Flynn.', 'He', 'was', 'treated', 'horribly,”', 'Trump', 'told', 'reporters', 'at', 'the', 'White', 'House.In', 'the', '2-1', 'decision,', 'the', 'U.S.', 'Court', 'of', 'Appeals', 'for', 'the', 'District', 'of', 'Columbia', 'Circuit', 'ruled', 'in', 'favor', 'of', 'Flynn', 'and', 'the', 'Trump', 'administration', 'in', 'preventing', 'U.S.', 'District', 'Judge', 'Emmet', 'Sullivan', 'from', 'exercising', 'his', 'discretion', 'on', 'whether', 'to', 'grant', 'the', 'department’s', 'motion', 'to', 'clear', 'Flynn,', 'who', 'twice', 'pleaded', 'guilty.The', 'ruling', 'prevents', 'Judge', 'Sullivan', 'from', 'hearing', 'arguments', 'at', 'a', 'July', '16', 'hearing', 'from', 'retired', 'judge', 'John', 'Gleeson,', 'whom', 'he', 'appointed', 'as', 'a', '“friend', 'of', 'the', 'court”', 'to', 'argue', 'against', 'dropping', 'the', 'case.“In', 'this', 'case,', 'the', 'district', 'court’s', 'actions', 'will', 'result', 'in', 'specific', 'harms', 'to', 'the', 'exercise', 'of', 'the', 'executive', 'branch’s', 'exclusive', 'prosecutorial', 'power,”', 'wrote', 'Judge', 'Neomi', 'Rao,', 'who', 'was', 'appointed', 'by', 'Trump.“The', 'contemplated', 'proceedings', 'would', 'likely', 'require', 'the', 'Executive', 'to', 'reveal', 'the', 'internal', 'deliberative', 'process', 'behind', 'its', 'exercise', 'of', 'prosecutorial', 'discretion.”Flynn,', 'a', 'retired', 'Army', 'lieutenant', 'general,', 'was', 'one', 'of', 'several', 'former', 'Trump', 'aides', 'charged', 'under', 'former', 'Special', 'Counsel', 'Robert', 'Mueller’s', 'investigation', 'that', 'detailed', 'Moscow’s', 'interference', 'in', 'the', '2016', 'U.S.', 'presidential', 'election.Flynn', 'twice', 'pleaded', 'guilty', 'to', 'lying', 'to', 'the', 'FBI', 'about', 'his', 'conversations', 'with', 'Russia’s', 'then-ambassador,', 'Sergey', 'Kislyak.He', 'then', 'switched', 'lawyers', 'to', 'pursue', 'a', 'new', 'scorched-earth', 'tactic', 'that', 'accused', 'the', 'FBI', 'of', 'entrapping', 'him,', 'and', 'asked', 'the', 'judge', 'to', 'dismiss', 'the', 'charge.WILKINS', 'DISSENTSJudge', 'Robert', 'Wilkins,', 'an', 'Obama', 'administration', 'appointee,', 'dissented.He', 'said', 'the', 'Justice', 'Department’s', 'flip-flop', 'on', 'the', 'case', 'raised', 'questions', 'that', 'merited', 'further', 'scrutiny', 'by', 'the', 'District', 'Court.“In', '2017,', 'the', 'then-Acting', 'Attorney', 'General', 'told', 'the', 'Vice', 'President', 'that', 'Flynn’s', 'false', 'statements', '‘posed', 'a', 'potential', 'compromise', 'situation', 'for', 'Flynn’', 'with', 'the', 'Russians,”', 'Wilkins', 'wrote.', '“Now,', 'in', 'a', 'complete', 'reversal,', 'the', 'government', 'says', 'none', 'of', 'this', 'is', 'true.”“This', 'is', 'no', 'mere', 'about-face;', 'it', 'is', 'more', 'akin', 'to', 'turning', 'around', 'an', 'aircraft', 'carrier.”After', 'the', 'Justice', 'Department', 'took', 'the', 'highly', 'unusual', 'step', 'of', 'seeking', 'to', 'abandon', 'the', 'case', 'against', 'Flynn,', 'Sullivan', 'appointed', 'Gleeson', 'to', 'argue', 'against', 'the', 'Justice', 'Department’s', 'request.FILE', 'PHOTO:', 'Former', 'U.S.', 'national', 'security', 'adviser', 'Michael', 'Flynn', 'departs', 'U.S.', 'District', 'Court', 'In', 'Washington,', 'U.S.,', 'December', '18,', '2018.', 'REUTERS/Joshua', 'RobertsHe', 'also', 'asked', 'Gleeson', 'to', 'weigh', 'in', 'on', 'whether', 'Sullivan', 'should', 'hold', 'Flynn', 'in', 'contempt', 'for', 'lying', 'when', 'pleading', 'guilty.Sullivan', 'has', 'said', 'he', 'cannot', 'serve', 'as', 'a', '“rubber', 'stamp”', 'and', 'must', 'carefully', 'review', 'the', 'facts', 'in', 'this', '“unprecedented”', 'request.In', 'the', 'majority', 'opinion', 'on', 'Wednesday,', 'the', 'appeals', 'court', 'called', 'Sullivan’s', 'appointment', 'of', 'Gleeson', '“troubling,”', 'and', 'said', 'it', 'was', 'granting', 'Flynn’s', 'petition', 'to', 'get', 'the', 'case', 'dismissed', 'to', '“prevent', 'the', 'judicial', 'usurpation', 'of', 'executive', 'power.”Gleeson', 'had', 'urged', 'Sullivan', 'to', 'proceed', 'with', 'sentencing', 'Flynn', 'and', 'accused', 'the', 'department', 'of', '“gross', 'abuse', 'of', 'prosecutorial', 'power”', 'in', 'to', '“provide', 'special', 'treatment', 'to', 'a', 'favored', 'friend', 'and', 'political', 'ally', 'of', 'the', 'President', 'of', 'the', 'United', 'States.”Beth', 'Wilkinson,', 'a', 'veteran', 'Washington', 'trial', 'lawyer', 'who', 'argued', 'the', 'case', 'on', 'Judge', 'Sullivan’s', 'behalf', 'before', 'the', 'appeals', 'court,', 'declined', 'to', 'comment.Reporting', 'by', 'Sarah', 'N.', 'Lynch;', 'additional', 'reporting', 'by', 'Steve', 'Holland', 'and', 'Mark', 'Hosenball;', 'Editing', 'by', 'Alistair', 'Bell', 'and', 'Howard', 'Gollerfor-phone-onlyfor-tablet-portrait-upfor-tablet-landscape-upfor-desktop-upfor-wide-desktop-up']",
         "600"
        ]
       ],
       "shape": {
        "columns": 4,
        "rows": 5
       }
      },
      "text/html": [
       "<div>\n",
       "<style scoped>\n",
       "    .dataframe tbody tr th:only-of-type {\n",
       "        vertical-align: middle;\n",
       "    }\n",
       "\n",
       "    .dataframe tbody tr th {\n",
       "        vertical-align: top;\n",
       "    }\n",
       "\n",
       "    .dataframe thead th {\n",
       "        text-align: right;\n",
       "    }\n",
       "</style>\n",
       "<table border=\"1\" class=\"dataframe\">\n",
       "  <thead>\n",
       "    <tr style=\"text-align: right;\">\n",
       "      <th></th>\n",
       "      <th>text</th>\n",
       "      <th>label</th>\n",
       "      <th>words</th>\n",
       "      <th>word_count</th>\n",
       "    </tr>\n",
       "  </thead>\n",
       "  <tbody>\n",
       "    <tr>\n",
       "      <th>0</th>\n",
       "      <td>Pfizer says its COVID-19 vaccine is shown to b...</td>\n",
       "      <td>1</td>\n",
       "      <td>[Pfizer, says, its, COVID-19, vaccine, is, sho...</td>\n",
       "      <td>453</td>\n",
       "    </tr>\n",
       "    <tr>\n",
       "      <th>1</th>\n",
       "      <td>WASHINGTON (AP) — The next few weeks are criti...</td>\n",
       "      <td>1</td>\n",
       "      <td>[WASHINGTON, (AP), —, The, next, few, weeks, a...</td>\n",
       "      <td>1110</td>\n",
       "    </tr>\n",
       "    <tr>\n",
       "      <th>2</th>\n",
       "      <td>Senate Minority Leader Charles SchumerChuck Sc...</td>\n",
       "      <td>1</td>\n",
       "      <td>[Senate, Minority, Leader, Charles, SchumerChu...</td>\n",
       "      <td>1007</td>\n",
       "    </tr>\n",
       "    <tr>\n",
       "      <th>3</th>\n",
       "      <td>NASCAR went to Talladega Superspeedway on heig...</td>\n",
       "      <td>1</td>\n",
       "      <td>[NASCAR, went, to, Talladega, Superspeedway, o...</td>\n",
       "      <td>792</td>\n",
       "    </tr>\n",
       "    <tr>\n",
       "      <th>4</th>\n",
       "      <td>WASHINGTON (Reuters) - A U.S. appeals court on...</td>\n",
       "      <td>1</td>\n",
       "      <td>[WASHINGTON, (Reuters), -, A, U.S., appeals, c...</td>\n",
       "      <td>600</td>\n",
       "    </tr>\n",
       "  </tbody>\n",
       "</table>\n",
       "</div>"
      ],
      "text/plain": [
       "                                                text label  \\\n",
       "0  Pfizer says its COVID-19 vaccine is shown to b...     1   \n",
       "1  WASHINGTON (AP) — The next few weeks are criti...     1   \n",
       "2  Senate Minority Leader Charles SchumerChuck Sc...     1   \n",
       "3  NASCAR went to Talladega Superspeedway on heig...     1   \n",
       "4  WASHINGTON (Reuters) - A U.S. appeals court on...     1   \n",
       "\n",
       "                                               words  word_count  \n",
       "0  [Pfizer, says, its, COVID-19, vaccine, is, sho...         453  \n",
       "1  [WASHINGTON, (AP), —, The, next, few, weeks, a...        1110  \n",
       "2  [Senate, Minority, Leader, Charles, SchumerChu...        1007  \n",
       "3  [NASCAR, went, to, Talladega, Superspeedway, o...         792  \n",
       "4  [WASHINGTON, (Reuters), -, A, U.S., appeals, c...         600  "
      ]
     },
     "execution_count": 39,
     "metadata": {},
     "output_type": "execute_result"
    }
   ],
   "source": [
    "df.head()"
   ]
  },
  {
   "cell_type": "code",
   "execution_count": 41,
   "metadata": {},
   "outputs": [
    {
     "name": "stdout",
     "output_type": "stream",
     "text": [
      "File saved.\n"
     ]
    }
   ],
   "source": [
    "# Save\n",
    "file_path = os.path.join(save_data, 'Labeled_AllSides.csv')\n",
    "df.to_csv(file_path, index=False)\n",
    "\n",
    "if os.path.exists(file_path):\n",
    "  print('File saved.')"
   ]
  }
 ],
 "metadata": {
  "kernelspec": {
   "display_name": "llmproject",
   "language": "python",
   "name": "python3"
  },
  "language_info": {
   "codemirror_mode": {
    "name": "ipython",
    "version": 3
   },
   "file_extension": ".py",
   "mimetype": "text/x-python",
   "name": "python",
   "nbconvert_exporter": "python",
   "pygments_lexer": "ipython3",
   "version": "3.10.8"
  }
 },
 "nbformat": 4,
 "nbformat_minor": 2
}
