{
 "cells": [
  {
   "cell_type": "markdown",
   "metadata": {},
   "source": [
    "# Random"
   ]
  },
  {
   "cell_type": "markdown",
   "metadata": {},
   "source": [
    "> Used for generating markdowns, debugging, etc."
   ]
  },
  {
   "cell_type": "code",
   "execution_count": 1,
   "metadata": {},
   "outputs": [],
   "source": [
    "# Imports\n",
    "import os\n",
    "from functions import *"
   ]
  },
  {
   "cell_type": "code",
   "execution_count": null,
   "metadata": {},
   "outputs": [
    {
     "name": "stdout",
     "output_type": "stream",
     "text": [
      "['.git', 'data', 'images', 'LICENSE', 'model', 'notebooks', 'Project_Journal.md', 'README.md']\n",
      "\n",
      "\n",
      "├── data\n",
      "├── images\n",
      "├── LICENSE\n",
      "├── model\n",
      "├── notebooks\n",
      "│   ├── 0_data_cleaning_eda.ipynb\n",
      "│   ├── 1_model_training.ipynb\n",
      "│   ├── 2_model_eval.ipynb\n",
      "│   ├── 3_model_deployment.ipynb\n",
      "│   ├── functions.py\n",
      "│   ├── random.ipynb\n",
      "│   ├── __pycache__\n",
      "│   │   ├── functions.cpython-39.pyc\n",
      "├── Project_Journal.md\n",
      "├── README.md\n",
      "\n"
     ]
    }
   ],
   "source": [
    "proj_dir = '../../Final-Project-LHL2025'\n",
    "\n",
    "if os.path.exists(proj_dir):\n",
    "  print(os.listdir(proj_dir))\n",
    "  print('\\n')\n",
    "  print(generate_file_structure(proj_dir))"
   ]
  }
 ],
 "metadata": {
  "kernelspec": {
   "display_name": "Python 3",
   "language": "python",
   "name": "python3"
  },
  "language_info": {
   "codemirror_mode": {
    "name": "ipython",
    "version": 3
   },
   "file_extension": ".py",
   "mimetype": "text/x-python",
   "name": "python",
   "nbconvert_exporter": "python",
   "pygments_lexer": "ipython3",
   "version": "3.9.18"
  }
 },
 "nbformat": 4,
 "nbformat_minor": 2
}
