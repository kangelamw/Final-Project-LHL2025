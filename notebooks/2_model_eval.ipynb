{
 "cells": [
  {
   "cell_type": "markdown",
   "metadata": {},
   "source": [
    "# Model Evaluation"
   ]
  },
  {
   "cell_type": "code",
   "execution_count": null,
   "metadata": {
    "vscode": {
     "languageId": "plaintext"
    }
   },
   "outputs": [],
   "source": [
    "# Imports\n",
    "import os\n",
    "import pandas as pd\n",
    "import numpy as np\n",
    "import matplotlib as plt\n",
    "import seaborn as sns\n",
    "# from functions import *\n",
    "\n",
    "# Paths\n",
    "save_data = '../data'\n",
    "data_path = os.path.join(save_data, 'Labeled_AllSides.csv')\n",
    "save_eval = '../data/eval'\n",
    "\n",
    "save_images = '../images'\n",
    "save_model = '../model'\n",
    "\n",
    "if os.path.exists(save_data):\n",
    "  print('Data: Save point initialized.')\n",
    "if os.path.exists(data_path):\n",
    "  df = pd.read_csv(data_path)\n",
    "  print(f'Dataset Loaded: {df.shape}')\n",
    "if os.path.exists(save_eval):\n",
    "  print('Eval: Save point initialized.\\n')\n",
    "\n",
    "if os.path.exists(save_images):\n",
    "  print('Images: Save point initialized.')\n",
    "if os.path.exists(save_model):\n",
    "  print('Model: Save point initialized.')"
   ]
  },
  {
   "cell_type": "code",
   "execution_count": null,
   "metadata": {
    "vscode": {
     "languageId": "plaintext"
    }
   },
   "outputs": [],
   "source": [
    "# More imports"
   ]
  }
 ],
 "metadata": {
  "language_info": {
   "name": "python"
  }
 },
 "nbformat": 4,
 "nbformat_minor": 2
}
