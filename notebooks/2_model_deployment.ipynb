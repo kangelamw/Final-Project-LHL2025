{
 "cells": [
  {
   "cell_type": "markdown",
   "metadata": {},
   "source": [
    "# Model Deployment"
   ]
  },
  {
   "cell_type": "code",
   "execution_count": null,
   "metadata": {},
   "outputs": [
    {
     "name": "stdout",
     "output_type": "stream",
     "text": [
      "Model: Save point initialized.\n",
      "Model: Final model initialized.\n"
     ]
    }
   ],
   "source": [
    "# Imports\n",
    "import os\n",
    "import pandas as pd\n",
    "# from functions import *\n",
    "\n",
    "# Paths\n",
    "save_model = '../model'\n",
    "\n",
    "# Classifier\n",
    "final_model = '../model/roberta-classifier-bias-base/roberta-political-bias-classifier'\n",
    "\n",
    "if os.path.exists(save_model):\n",
    "  print('Model: Save point initialized.')\n",
    "\n",
    "if os.path.exists(final_model):\n",
    "  print('Model: Final model initialized.')"
   ]
  },
  {
   "cell_type": "markdown",
   "metadata": {},
   "source": [
    "### HuggingFace"
   ]
  },
  {
   "cell_type": "code",
   "execution_count": 2,
   "metadata": {},
   "outputs": [
    {
     "data": {
      "application/vnd.jupyter.widget-view+json": {
       "model_id": "a6e3098f5f32443598d18e5dc12e3173",
       "version_major": 2,
       "version_minor": 0
      },
      "text/plain": [
       "VBox(children=(HTML(value='<center> <img\\nsrc=https://huggingface.co/front/assets/huggingface_logo-noborder.sv…"
      ]
     },
     "metadata": {},
     "output_type": "display_data"
    }
   ],
   "source": [
    "from huggingface_hub import notebook_login\n",
    "\n",
    "notebook_login()"
   ]
  },
  {
   "cell_type": "code",
   "execution_count": null,
   "metadata": {},
   "outputs": [
    {
     "data": {
      "application/vnd.jupyter.widget-view+json": {
       "model_id": "2de7c123ff6c4cbd9acf4bdc2a835707",
       "version_major": 2,
       "version_minor": 0
      },
      "text/plain": [
       "training_args.bin:   0%|          | 0.00/5.24k [00:00<?, ?B/s]"
      ]
     },
     "metadata": {},
     "output_type": "display_data"
    },
    {
     "data": {
      "application/vnd.jupyter.widget-view+json": {
       "model_id": "700724c6acb6425b990c6570e8b2ee04",
       "version_major": 2,
       "version_minor": 0
      },
      "text/plain": [
       "model.safetensors:   0%|          | 0.00/499M [00:00<?, ?B/s]"
      ]
     },
     "metadata": {},
     "output_type": "display_data"
    },
    {
     "data": {
      "application/vnd.jupyter.widget-view+json": {
       "model_id": "e6e9e98e10d647849fe0c7e5d5268f87",
       "version_major": 2,
       "version_minor": 0
      },
      "text/plain": [
       "Upload 2 LFS files:   0%|          | 0/2 [00:00<?, ?it/s]"
      ]
     },
     "metadata": {},
     "output_type": "display_data"
    },
    {
     "data": {
      "text/plain": [
       "CommitInfo(commit_url='https://huggingface.co/kangelamw/RoBERTa-political-bias-classifier-softmax/commit/e63dcd474c7dab7a021ffac7764e799b38f98316', commit_message='Upload folder using huggingface_hub', commit_description='', oid='e63dcd474c7dab7a021ffac7764e799b38f98316', pr_url=None, repo_url=RepoUrl('https://huggingface.co/kangelamw/RoBERTa-political-bias-classifier-softmax', endpoint='https://huggingface.co', repo_type='model', repo_id='kangelamw/RoBERTa-political-bias-classifier-softmax'), pr_revision=None, pr_num=None)"
      ]
     },
     "execution_count": 4,
     "metadata": {},
     "output_type": "execute_result"
    }
   ],
   "source": [
    "from transformers import AutoModelForSequenceClassification, AutoTokenizer\n",
    "from huggingface_hub import HfApi\n",
    "\n",
    "api = HfApi()\n",
    "\n",
    "username = \"kangelamw\"\n",
    "repo_name = \"RoBERTa-political-bias-classifier-softmax\"\n",
    "repo_id = f\"{username}/{repo_name}\"\n",
    "\n",
    "# Load model\n",
    "model_path = final_model\n",
    "\n",
    "# Create repo and upload\n",
    "api.create_repo(repo_id, exist_ok=True)\n",
    "api.upload_folder(\n",
    "    folder_path=model_path,\n",
    "    repo_id=repo_id,\n",
    "    repo_type=\"model\"\n",
    ")"
   ]
  }
 ],
 "metadata": {
  "kernelspec": {
   "display_name": "llmproject",
   "language": "python",
   "name": "python3"
  },
  "language_info": {
   "name": "python",
   "version": "3.10.8"
  }
 },
 "nbformat": 4,
 "nbformat_minor": 2
}
